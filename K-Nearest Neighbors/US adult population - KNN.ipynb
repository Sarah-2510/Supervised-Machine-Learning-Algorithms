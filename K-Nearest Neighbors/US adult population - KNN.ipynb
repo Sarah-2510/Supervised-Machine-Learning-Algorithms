{
 "cells": [
  {
   "cell_type": "code",
   "execution_count": 38,
   "id": "separate-membrane",
   "metadata": {},
   "outputs": [],
   "source": [
    "#importing libraries\n",
    "import pandas as pd # data analytical library \n",
    "import numpy as np #fast linear algebra\n",
    "import matplotlib.pyplot as plt #visualization\n",
    "import seaborn as sns #statistical visualization"
   ]
  },
  {
   "cell_type": "code",
   "execution_count": 39,
   "id": "behavioral-cincinnati",
   "metadata": {},
   "outputs": [],
   "source": [
    "#Reading the data \n",
    "data=pd.read_csv(\"adult data.csv\")"
   ]
  },
  {
   "cell_type": "code",
   "execution_count": 7,
   "id": "productive-injury",
   "metadata": {},
   "outputs": [
    {
     "data": {
      "text/html": [
       "<div>\n",
       "<style scoped>\n",
       "    .dataframe tbody tr th:only-of-type {\n",
       "        vertical-align: middle;\n",
       "    }\n",
       "\n",
       "    .dataframe tbody tr th {\n",
       "        vertical-align: top;\n",
       "    }\n",
       "\n",
       "    .dataframe thead th {\n",
       "        text-align: right;\n",
       "    }\n",
       "</style>\n",
       "<table border=\"1\" class=\"dataframe\">\n",
       "  <thead>\n",
       "    <tr style=\"text-align: right;\">\n",
       "      <th></th>\n",
       "      <th>age</th>\n",
       "      <th>workclass</th>\n",
       "      <th>fnlwgt</th>\n",
       "      <th>education</th>\n",
       "      <th>education-num</th>\n",
       "      <th>marital-status</th>\n",
       "      <th>occupation</th>\n",
       "      <th>relationship</th>\n",
       "      <th>race</th>\n",
       "      <th>sex</th>\n",
       "      <th>capital-gain</th>\n",
       "      <th>capital-loss</th>\n",
       "      <th>hours-per-week</th>\n",
       "      <th>native-country</th>\n",
       "      <th>income</th>\n",
       "    </tr>\n",
       "  </thead>\n",
       "  <tbody>\n",
       "    <tr>\n",
       "      <th>0</th>\n",
       "      <td>39</td>\n",
       "      <td>State-gov</td>\n",
       "      <td>77516</td>\n",
       "      <td>Bachelors</td>\n",
       "      <td>13</td>\n",
       "      <td>Never-married</td>\n",
       "      <td>Adm-clerical</td>\n",
       "      <td>Not-in-family</td>\n",
       "      <td>White</td>\n",
       "      <td>Male</td>\n",
       "      <td>2174</td>\n",
       "      <td>0</td>\n",
       "      <td>40</td>\n",
       "      <td>United-States</td>\n",
       "      <td>&lt;=50K</td>\n",
       "    </tr>\n",
       "    <tr>\n",
       "      <th>1</th>\n",
       "      <td>50</td>\n",
       "      <td>Self-emp-not-inc</td>\n",
       "      <td>83311</td>\n",
       "      <td>Bachelors</td>\n",
       "      <td>13</td>\n",
       "      <td>Married-civ-spouse</td>\n",
       "      <td>Exec-managerial</td>\n",
       "      <td>Husband</td>\n",
       "      <td>White</td>\n",
       "      <td>Male</td>\n",
       "      <td>0</td>\n",
       "      <td>0</td>\n",
       "      <td>13</td>\n",
       "      <td>United-States</td>\n",
       "      <td>&lt;=50K</td>\n",
       "    </tr>\n",
       "    <tr>\n",
       "      <th>2</th>\n",
       "      <td>38</td>\n",
       "      <td>Private</td>\n",
       "      <td>215646</td>\n",
       "      <td>HS-grad</td>\n",
       "      <td>9</td>\n",
       "      <td>Divorced</td>\n",
       "      <td>Handlers-cleaners</td>\n",
       "      <td>Not-in-family</td>\n",
       "      <td>White</td>\n",
       "      <td>Male</td>\n",
       "      <td>0</td>\n",
       "      <td>0</td>\n",
       "      <td>40</td>\n",
       "      <td>United-States</td>\n",
       "      <td>&lt;=50K</td>\n",
       "    </tr>\n",
       "    <tr>\n",
       "      <th>3</th>\n",
       "      <td>53</td>\n",
       "      <td>Private</td>\n",
       "      <td>234721</td>\n",
       "      <td>11th</td>\n",
       "      <td>7</td>\n",
       "      <td>Married-civ-spouse</td>\n",
       "      <td>Handlers-cleaners</td>\n",
       "      <td>Husband</td>\n",
       "      <td>Black</td>\n",
       "      <td>Male</td>\n",
       "      <td>0</td>\n",
       "      <td>0</td>\n",
       "      <td>40</td>\n",
       "      <td>United-States</td>\n",
       "      <td>&lt;=50K</td>\n",
       "    </tr>\n",
       "    <tr>\n",
       "      <th>4</th>\n",
       "      <td>28</td>\n",
       "      <td>Private</td>\n",
       "      <td>338409</td>\n",
       "      <td>Bachelors</td>\n",
       "      <td>13</td>\n",
       "      <td>Married-civ-spouse</td>\n",
       "      <td>Prof-specialty</td>\n",
       "      <td>Wife</td>\n",
       "      <td>Black</td>\n",
       "      <td>Female</td>\n",
       "      <td>0</td>\n",
       "      <td>0</td>\n",
       "      <td>40</td>\n",
       "      <td>Cuba</td>\n",
       "      <td>&lt;=50K</td>\n",
       "    </tr>\n",
       "  </tbody>\n",
       "</table>\n",
       "</div>"
      ],
      "text/plain": [
       "   age          workclass  fnlwgt   education  education-num  \\\n",
       "0   39          State-gov   77516   Bachelors             13   \n",
       "1   50   Self-emp-not-inc   83311   Bachelors             13   \n",
       "2   38            Private  215646     HS-grad              9   \n",
       "3   53            Private  234721        11th              7   \n",
       "4   28            Private  338409   Bachelors             13   \n",
       "\n",
       "        marital-status          occupation    relationship    race      sex  \\\n",
       "0        Never-married        Adm-clerical   Not-in-family   White     Male   \n",
       "1   Married-civ-spouse     Exec-managerial         Husband   White     Male   \n",
       "2             Divorced   Handlers-cleaners   Not-in-family   White     Male   \n",
       "3   Married-civ-spouse   Handlers-cleaners         Husband   Black     Male   \n",
       "4   Married-civ-spouse      Prof-specialty            Wife   Black   Female   \n",
       "\n",
       "   capital-gain  capital-loss  hours-per-week  native-country  income  \n",
       "0          2174             0              40   United-States   <=50K  \n",
       "1             0             0              13   United-States   <=50K  \n",
       "2             0             0              40   United-States   <=50K  \n",
       "3             0             0              40   United-States   <=50K  \n",
       "4             0             0              40            Cuba   <=50K  "
      ]
     },
     "execution_count": 7,
     "metadata": {},
     "output_type": "execute_result"
    }
   ],
   "source": [
    "#checking the head of the dataset\n",
    "data.head()"
   ]
  },
  {
   "cell_type": "code",
   "execution_count": 8,
   "id": "attractive-information",
   "metadata": {},
   "outputs": [
    {
     "name": "stdout",
     "output_type": "stream",
     "text": [
      "<class 'pandas.core.frame.DataFrame'>\n",
      "RangeIndex: 32561 entries, 0 to 32560\n",
      "Data columns (total 15 columns):\n",
      " #   Column          Non-Null Count  Dtype \n",
      "---  ------          --------------  ----- \n",
      " 0   age             32561 non-null  int64 \n",
      " 1   workclass       32561 non-null  object\n",
      " 2   fnlwgt          32561 non-null  int64 \n",
      " 3   education       32561 non-null  object\n",
      " 4   education-num   32561 non-null  int64 \n",
      " 5   marital-status  32561 non-null  object\n",
      " 6   occupation      32561 non-null  object\n",
      " 7   relationship    32561 non-null  object\n",
      " 8   race            32561 non-null  object\n",
      " 9   sex             32561 non-null  object\n",
      " 10  capital-gain    32561 non-null  int64 \n",
      " 11  capital-loss    32561 non-null  int64 \n",
      " 12  hours-per-week  32561 non-null  int64 \n",
      " 13  native-country  32561 non-null  object\n",
      " 14  income          32561 non-null  object\n",
      "dtypes: int64(6), object(9)\n",
      "memory usage: 3.7+ MB\n"
     ]
    }
   ],
   "source": [
    "data.info()"
   ]
  },
  {
   "cell_type": "code",
   "execution_count": 9,
   "id": "romance-insight",
   "metadata": {},
   "outputs": [
    {
     "data": {
      "text/html": [
       "<div>\n",
       "<style scoped>\n",
       "    .dataframe tbody tr th:only-of-type {\n",
       "        vertical-align: middle;\n",
       "    }\n",
       "\n",
       "    .dataframe tbody tr th {\n",
       "        vertical-align: top;\n",
       "    }\n",
       "\n",
       "    .dataframe thead th {\n",
       "        text-align: right;\n",
       "    }\n",
       "</style>\n",
       "<table border=\"1\" class=\"dataframe\">\n",
       "  <thead>\n",
       "    <tr style=\"text-align: right;\">\n",
       "      <th></th>\n",
       "      <th>age</th>\n",
       "      <th>fnlwgt</th>\n",
       "      <th>education-num</th>\n",
       "      <th>capital-gain</th>\n",
       "      <th>capital-loss</th>\n",
       "      <th>hours-per-week</th>\n",
       "    </tr>\n",
       "  </thead>\n",
       "  <tbody>\n",
       "    <tr>\n",
       "      <th>count</th>\n",
       "      <td>32561.000000</td>\n",
       "      <td>3.256100e+04</td>\n",
       "      <td>32561.000000</td>\n",
       "      <td>32561.000000</td>\n",
       "      <td>32561.000000</td>\n",
       "      <td>32561.000000</td>\n",
       "    </tr>\n",
       "    <tr>\n",
       "      <th>mean</th>\n",
       "      <td>38.581647</td>\n",
       "      <td>1.897784e+05</td>\n",
       "      <td>10.080679</td>\n",
       "      <td>1077.648844</td>\n",
       "      <td>87.303830</td>\n",
       "      <td>40.437456</td>\n",
       "    </tr>\n",
       "    <tr>\n",
       "      <th>std</th>\n",
       "      <td>13.640433</td>\n",
       "      <td>1.055500e+05</td>\n",
       "      <td>2.572720</td>\n",
       "      <td>7385.292085</td>\n",
       "      <td>402.960219</td>\n",
       "      <td>12.347429</td>\n",
       "    </tr>\n",
       "    <tr>\n",
       "      <th>min</th>\n",
       "      <td>17.000000</td>\n",
       "      <td>1.228500e+04</td>\n",
       "      <td>1.000000</td>\n",
       "      <td>0.000000</td>\n",
       "      <td>0.000000</td>\n",
       "      <td>1.000000</td>\n",
       "    </tr>\n",
       "    <tr>\n",
       "      <th>25%</th>\n",
       "      <td>28.000000</td>\n",
       "      <td>1.178270e+05</td>\n",
       "      <td>9.000000</td>\n",
       "      <td>0.000000</td>\n",
       "      <td>0.000000</td>\n",
       "      <td>40.000000</td>\n",
       "    </tr>\n",
       "    <tr>\n",
       "      <th>50%</th>\n",
       "      <td>37.000000</td>\n",
       "      <td>1.783560e+05</td>\n",
       "      <td>10.000000</td>\n",
       "      <td>0.000000</td>\n",
       "      <td>0.000000</td>\n",
       "      <td>40.000000</td>\n",
       "    </tr>\n",
       "    <tr>\n",
       "      <th>75%</th>\n",
       "      <td>48.000000</td>\n",
       "      <td>2.370510e+05</td>\n",
       "      <td>12.000000</td>\n",
       "      <td>0.000000</td>\n",
       "      <td>0.000000</td>\n",
       "      <td>45.000000</td>\n",
       "    </tr>\n",
       "    <tr>\n",
       "      <th>max</th>\n",
       "      <td>90.000000</td>\n",
       "      <td>1.484705e+06</td>\n",
       "      <td>16.000000</td>\n",
       "      <td>99999.000000</td>\n",
       "      <td>4356.000000</td>\n",
       "      <td>99.000000</td>\n",
       "    </tr>\n",
       "  </tbody>\n",
       "</table>\n",
       "</div>"
      ],
      "text/plain": [
       "                age        fnlwgt  education-num  capital-gain  capital-loss  \\\n",
       "count  32561.000000  3.256100e+04   32561.000000  32561.000000  32561.000000   \n",
       "mean      38.581647  1.897784e+05      10.080679   1077.648844     87.303830   \n",
       "std       13.640433  1.055500e+05       2.572720   7385.292085    402.960219   \n",
       "min       17.000000  1.228500e+04       1.000000      0.000000      0.000000   \n",
       "25%       28.000000  1.178270e+05       9.000000      0.000000      0.000000   \n",
       "50%       37.000000  1.783560e+05      10.000000      0.000000      0.000000   \n",
       "75%       48.000000  2.370510e+05      12.000000      0.000000      0.000000   \n",
       "max       90.000000  1.484705e+06      16.000000  99999.000000   4356.000000   \n",
       "\n",
       "       hours-per-week  \n",
       "count    32561.000000  \n",
       "mean        40.437456  \n",
       "std         12.347429  \n",
       "min          1.000000  \n",
       "25%         40.000000  \n",
       "50%         40.000000  \n",
       "75%         45.000000  \n",
       "max         99.000000  "
      ]
     },
     "execution_count": 9,
     "metadata": {},
     "output_type": "execute_result"
    }
   ],
   "source": [
    "data.describe() #data summary"
   ]
  },
  {
   "cell_type": "code",
   "execution_count": 10,
   "id": "separate-invasion",
   "metadata": {},
   "outputs": [
    {
     "data": {
      "text/plain": [
       "age               0\n",
       "workclass         0\n",
       "fnlwgt            0\n",
       "education         0\n",
       "education-num     0\n",
       "marital-status    0\n",
       "occupation        0\n",
       "relationship      0\n",
       "race              0\n",
       "sex               0\n",
       "capital-gain      0\n",
       "capital-loss      0\n",
       "hours-per-week    0\n",
       "native-country    0\n",
       "income            0\n",
       "dtype: int64"
      ]
     },
     "execution_count": 10,
     "metadata": {},
     "output_type": "execute_result"
    }
   ],
   "source": [
    "#checking for null values\n",
    "data.isnull().sum()"
   ]
  },
  {
   "cell_type": "code",
   "execution_count": 11,
   "id": "hourly-rally",
   "metadata": {},
   "outputs": [
    {
     "data": {
      "text/plain": [
       " Male      21790\n",
       " Female    10771\n",
       "Name: sex, dtype: int64"
      ]
     },
     "execution_count": 11,
     "metadata": {},
     "output_type": "execute_result"
    }
   ],
   "source": [
    "data['sex'].value_counts()"
   ]
  },
  {
   "cell_type": "code",
   "execution_count": 12,
   "id": "informal-yugoslavia",
   "metadata": {},
   "outputs": [
    {
     "data": {
      "text/plain": [
       " Married-civ-spouse       14976\n",
       " Never-married            10683\n",
       " Divorced                  4443\n",
       " Separated                 1025\n",
       " Widowed                    993\n",
       " Married-spouse-absent      418\n",
       " Married-AF-spouse           23\n",
       "Name: marital-status, dtype: int64"
      ]
     },
     "execution_count": 12,
     "metadata": {},
     "output_type": "execute_result"
    }
   ],
   "source": [
    "data['marital-status'].value_counts()"
   ]
  },
  {
   "cell_type": "code",
   "execution_count": 14,
   "id": "chemical-conditions",
   "metadata": {},
   "outputs": [
    {
     "data": {
      "text/html": [
       "<div>\n",
       "<style scoped>\n",
       "    .dataframe tbody tr th:only-of-type {\n",
       "        vertical-align: middle;\n",
       "    }\n",
       "\n",
       "    .dataframe tbody tr th {\n",
       "        vertical-align: top;\n",
       "    }\n",
       "\n",
       "    .dataframe thead th {\n",
       "        text-align: right;\n",
       "    }\n",
       "</style>\n",
       "<table border=\"1\" class=\"dataframe\">\n",
       "  <thead>\n",
       "    <tr style=\"text-align: right;\">\n",
       "      <th></th>\n",
       "      <th>workclass</th>\n",
       "      <th>education</th>\n",
       "      <th>marital-status</th>\n",
       "      <th>occupation</th>\n",
       "      <th>relationship</th>\n",
       "      <th>race</th>\n",
       "      <th>sex</th>\n",
       "      <th>native-country</th>\n",
       "      <th>income</th>\n",
       "    </tr>\n",
       "  </thead>\n",
       "  <tbody>\n",
       "    <tr>\n",
       "      <th>count</th>\n",
       "      <td>32561</td>\n",
       "      <td>32561</td>\n",
       "      <td>32561</td>\n",
       "      <td>32561</td>\n",
       "      <td>32561</td>\n",
       "      <td>32561</td>\n",
       "      <td>32561</td>\n",
       "      <td>32561</td>\n",
       "      <td>32561</td>\n",
       "    </tr>\n",
       "    <tr>\n",
       "      <th>unique</th>\n",
       "      <td>9</td>\n",
       "      <td>16</td>\n",
       "      <td>7</td>\n",
       "      <td>15</td>\n",
       "      <td>6</td>\n",
       "      <td>5</td>\n",
       "      <td>2</td>\n",
       "      <td>42</td>\n",
       "      <td>2</td>\n",
       "    </tr>\n",
       "    <tr>\n",
       "      <th>top</th>\n",
       "      <td>Private</td>\n",
       "      <td>HS-grad</td>\n",
       "      <td>Married-civ-spouse</td>\n",
       "      <td>Prof-specialty</td>\n",
       "      <td>Husband</td>\n",
       "      <td>White</td>\n",
       "      <td>Male</td>\n",
       "      <td>United-States</td>\n",
       "      <td>&lt;=50K</td>\n",
       "    </tr>\n",
       "    <tr>\n",
       "      <th>freq</th>\n",
       "      <td>22696</td>\n",
       "      <td>10501</td>\n",
       "      <td>14976</td>\n",
       "      <td>4140</td>\n",
       "      <td>13193</td>\n",
       "      <td>27816</td>\n",
       "      <td>21790</td>\n",
       "      <td>29170</td>\n",
       "      <td>24720</td>\n",
       "    </tr>\n",
       "  </tbody>\n",
       "</table>\n",
       "</div>"
      ],
      "text/plain": [
       "       workclass education       marital-status       occupation relationship  \\\n",
       "count      32561     32561                32561            32561        32561   \n",
       "unique         9        16                    7               15            6   \n",
       "top      Private   HS-grad   Married-civ-spouse   Prof-specialty      Husband   \n",
       "freq       22696     10501                14976             4140        13193   \n",
       "\n",
       "          race    sex  native-country  income  \n",
       "count    32561  32561           32561   32561  \n",
       "unique       5      2              42       2  \n",
       "top      White   Male   United-States   <=50K  \n",
       "freq     27816  21790           29170   24720  "
      ]
     },
     "execution_count": 14,
     "metadata": {},
     "output_type": "execute_result"
    }
   ],
   "source": [
    "data.select_dtypes(include='object').describe()"
   ]
  },
  {
   "cell_type": "code",
   "execution_count": 15,
   "id": "labeled-oxygen",
   "metadata": {},
   "outputs": [
    {
     "data": {
      "text/plain": [
       " United-States                 29170\n",
       " Mexico                          643\n",
       " ?                               583\n",
       " Philippines                     198\n",
       " Germany                         137\n",
       " Canada                          121\n",
       " Puerto-Rico                     114\n",
       " El-Salvador                     106\n",
       " India                           100\n",
       " Cuba                             95\n",
       " England                          90\n",
       " Jamaica                          81\n",
       " South                            80\n",
       " China                            75\n",
       " Italy                            73\n",
       " Dominican-Republic               70\n",
       " Vietnam                          67\n",
       " Guatemala                        64\n",
       " Japan                            62\n",
       " Poland                           60\n",
       " Columbia                         59\n",
       " Taiwan                           51\n",
       " Haiti                            44\n",
       " Iran                             43\n",
       " Portugal                         37\n",
       " Nicaragua                        34\n",
       " Peru                             31\n",
       " Greece                           29\n",
       " France                           29\n",
       " Ecuador                          28\n",
       " Ireland                          24\n",
       " Hong                             20\n",
       " Trinadad&Tobago                  19\n",
       " Cambodia                         19\n",
       " Laos                             18\n",
       " Thailand                         18\n",
       " Yugoslavia                       16\n",
       " Outlying-US(Guam-USVI-etc)       14\n",
       " Hungary                          13\n",
       " Honduras                         13\n",
       " Scotland                         12\n",
       " Holand-Netherlands                1\n",
       "Name: native-country, dtype: int64"
      ]
     },
     "execution_count": 15,
     "metadata": {},
     "output_type": "execute_result"
    }
   ],
   "source": [
    "data['native-country'].value_counts()"
   ]
  },
  {
   "cell_type": "code",
   "execution_count": 16,
   "id": "placed-dylan",
   "metadata": {},
   "outputs": [
    {
     "data": {
      "text/plain": [
       " HS-grad         10501\n",
       " Some-college     7291\n",
       " Bachelors        5355\n",
       " Masters          1723\n",
       " Assoc-voc        1382\n",
       " 11th             1175\n",
       " Assoc-acdm       1067\n",
       " 10th              933\n",
       " 7th-8th           646\n",
       " Prof-school       576\n",
       " 9th               514\n",
       " 12th              433\n",
       " Doctorate         413\n",
       " 5th-6th           333\n",
       " 1st-4th           168\n",
       " Preschool          51\n",
       "Name: education, dtype: int64"
      ]
     },
     "execution_count": 16,
     "metadata": {},
     "output_type": "execute_result"
    }
   ],
   "source": [
    "data['education'].value_counts()"
   ]
  },
  {
   "cell_type": "code",
   "execution_count": 18,
   "id": "opponent-encoding",
   "metadata": {},
   "outputs": [
    {
     "data": {
      "text/plain": [
       " Prof-specialty       4140\n",
       " Craft-repair         4099\n",
       " Exec-managerial      4066\n",
       " Adm-clerical         3770\n",
       " Sales                3650\n",
       " Other-service        3295\n",
       " Machine-op-inspct    2002\n",
       " ?                    1843\n",
       " Transport-moving     1597\n",
       " Handlers-cleaners    1370\n",
       " Farming-fishing       994\n",
       " Tech-support          928\n",
       " Protective-serv       649\n",
       " Priv-house-serv       149\n",
       " Armed-Forces            9\n",
       "Name: occupation, dtype: int64"
      ]
     },
     "execution_count": 18,
     "metadata": {},
     "output_type": "execute_result"
    }
   ],
   "source": [
    "data['occupation'].value_counts()"
   ]
  },
  {
   "cell_type": "code",
   "execution_count": 22,
   "id": "chinese-lesson",
   "metadata": {},
   "outputs": [
    {
     "data": {
      "text/plain": [
       " <=50K    24720\n",
       " >50K      7841\n",
       "Name: income, dtype: int64"
      ]
     },
     "execution_count": 22,
     "metadata": {},
     "output_type": "execute_result"
    }
   ],
   "source": [
    "data['income'].value_counts()"
   ]
  },
  {
   "cell_type": "code",
   "execution_count": 25,
   "id": "meaningful-trance",
   "metadata": {},
   "outputs": [
    {
     "data": {
      "text/html": [
       "<div>\n",
       "<style scoped>\n",
       "    .dataframe tbody tr th:only-of-type {\n",
       "        vertical-align: middle;\n",
       "    }\n",
       "\n",
       "    .dataframe tbody tr th {\n",
       "        vertical-align: top;\n",
       "    }\n",
       "\n",
       "    .dataframe thead th {\n",
       "        text-align: right;\n",
       "    }\n",
       "</style>\n",
       "<table border=\"1\" class=\"dataframe\">\n",
       "  <thead>\n",
       "    <tr style=\"text-align: right;\">\n",
       "      <th></th>\n",
       "      <th>age</th>\n",
       "      <th>workclass</th>\n",
       "      <th>fnlwgt</th>\n",
       "      <th>education</th>\n",
       "      <th>education-num</th>\n",
       "      <th>marital-status</th>\n",
       "      <th>occupation</th>\n",
       "      <th>relationship</th>\n",
       "      <th>race</th>\n",
       "      <th>sex</th>\n",
       "      <th>capital-gain</th>\n",
       "      <th>capital-loss</th>\n",
       "      <th>hours-per-week</th>\n",
       "      <th>native-country</th>\n",
       "      <th>income</th>\n",
       "    </tr>\n",
       "  </thead>\n",
       "  <tbody>\n",
       "    <tr>\n",
       "      <th>1826</th>\n",
       "      <td>22</td>\n",
       "      <td>Self-emp-not-inc</td>\n",
       "      <td>202920</td>\n",
       "      <td>HS-grad</td>\n",
       "      <td>9</td>\n",
       "      <td>Never-married</td>\n",
       "      <td>Prof-specialty</td>\n",
       "      <td>Unmarried</td>\n",
       "      <td>White</td>\n",
       "      <td>Female</td>\n",
       "      <td>99999</td>\n",
       "      <td>0</td>\n",
       "      <td>40</td>\n",
       "      <td>Dominican-Republic</td>\n",
       "      <td>&gt;50K</td>\n",
       "    </tr>\n",
       "    <tr>\n",
       "      <th>2332</th>\n",
       "      <td>23</td>\n",
       "      <td>Self-emp-not-inc</td>\n",
       "      <td>282604</td>\n",
       "      <td>11th</td>\n",
       "      <td>7</td>\n",
       "      <td>Married-civ-spouse</td>\n",
       "      <td>Transport-moving</td>\n",
       "      <td>Husband</td>\n",
       "      <td>White</td>\n",
       "      <td>Male</td>\n",
       "      <td>7688</td>\n",
       "      <td>0</td>\n",
       "      <td>60</td>\n",
       "      <td>United-States</td>\n",
       "      <td>&gt;50K</td>\n",
       "    </tr>\n",
       "    <tr>\n",
       "      <th>4359</th>\n",
       "      <td>22</td>\n",
       "      <td>Private</td>\n",
       "      <td>195532</td>\n",
       "      <td>Bachelors</td>\n",
       "      <td>13</td>\n",
       "      <td>Never-married</td>\n",
       "      <td>Prof-specialty</td>\n",
       "      <td>Not-in-family</td>\n",
       "      <td>White</td>\n",
       "      <td>Female</td>\n",
       "      <td>8614</td>\n",
       "      <td>0</td>\n",
       "      <td>40</td>\n",
       "      <td>United-States</td>\n",
       "      <td>&gt;50K</td>\n",
       "    </tr>\n",
       "    <tr>\n",
       "      <th>5397</th>\n",
       "      <td>23</td>\n",
       "      <td>Self-emp-not-inc</td>\n",
       "      <td>258298</td>\n",
       "      <td>Bachelors</td>\n",
       "      <td>13</td>\n",
       "      <td>Never-married</td>\n",
       "      <td>Adm-clerical</td>\n",
       "      <td>Own-child</td>\n",
       "      <td>White</td>\n",
       "      <td>Male</td>\n",
       "      <td>0</td>\n",
       "      <td>2231</td>\n",
       "      <td>40</td>\n",
       "      <td>United-States</td>\n",
       "      <td>&gt;50K</td>\n",
       "    </tr>\n",
       "    <tr>\n",
       "      <th>5624</th>\n",
       "      <td>21</td>\n",
       "      <td>Private</td>\n",
       "      <td>216070</td>\n",
       "      <td>Assoc-acdm</td>\n",
       "      <td>12</td>\n",
       "      <td>Married-civ-spouse</td>\n",
       "      <td>Adm-clerical</td>\n",
       "      <td>Wife</td>\n",
       "      <td>Amer-Indian-Eskimo</td>\n",
       "      <td>Female</td>\n",
       "      <td>0</td>\n",
       "      <td>0</td>\n",
       "      <td>46</td>\n",
       "      <td>United-States</td>\n",
       "      <td>&gt;50K</td>\n",
       "    </tr>\n",
       "    <tr>\n",
       "      <th>6581</th>\n",
       "      <td>23</td>\n",
       "      <td>Private</td>\n",
       "      <td>44064</td>\n",
       "      <td>Some-college</td>\n",
       "      <td>10</td>\n",
       "      <td>Separated</td>\n",
       "      <td>Other-service</td>\n",
       "      <td>Not-in-family</td>\n",
       "      <td>White</td>\n",
       "      <td>Male</td>\n",
       "      <td>0</td>\n",
       "      <td>2559</td>\n",
       "      <td>40</td>\n",
       "      <td>United-States</td>\n",
       "      <td>&gt;50K</td>\n",
       "    </tr>\n",
       "    <tr>\n",
       "      <th>7741</th>\n",
       "      <td>19</td>\n",
       "      <td>Private</td>\n",
       "      <td>323605</td>\n",
       "      <td>7th-8th</td>\n",
       "      <td>4</td>\n",
       "      <td>Never-married</td>\n",
       "      <td>Other-service</td>\n",
       "      <td>Not-in-family</td>\n",
       "      <td>White</td>\n",
       "      <td>Male</td>\n",
       "      <td>0</td>\n",
       "      <td>0</td>\n",
       "      <td>60</td>\n",
       "      <td>United-States</td>\n",
       "      <td>&gt;50K</td>\n",
       "    </tr>\n",
       "    <tr>\n",
       "      <th>8633</th>\n",
       "      <td>23</td>\n",
       "      <td>Private</td>\n",
       "      <td>106957</td>\n",
       "      <td>11th</td>\n",
       "      <td>7</td>\n",
       "      <td>Never-married</td>\n",
       "      <td>Craft-repair</td>\n",
       "      <td>Own-child</td>\n",
       "      <td>Asian-Pac-Islander</td>\n",
       "      <td>Male</td>\n",
       "      <td>14344</td>\n",
       "      <td>0</td>\n",
       "      <td>40</td>\n",
       "      <td>Vietnam</td>\n",
       "      <td>&gt;50K</td>\n",
       "    </tr>\n",
       "    <tr>\n",
       "      <th>9605</th>\n",
       "      <td>22</td>\n",
       "      <td>Private</td>\n",
       "      <td>100345</td>\n",
       "      <td>Bachelors</td>\n",
       "      <td>13</td>\n",
       "      <td>Never-married</td>\n",
       "      <td>Craft-repair</td>\n",
       "      <td>Not-in-family</td>\n",
       "      <td>White</td>\n",
       "      <td>Male</td>\n",
       "      <td>13550</td>\n",
       "      <td>0</td>\n",
       "      <td>55</td>\n",
       "      <td>United-States</td>\n",
       "      <td>&gt;50K</td>\n",
       "    </tr>\n",
       "    <tr>\n",
       "      <th>9688</th>\n",
       "      <td>22</td>\n",
       "      <td>State-gov</td>\n",
       "      <td>186634</td>\n",
       "      <td>12th</td>\n",
       "      <td>8</td>\n",
       "      <td>Never-married</td>\n",
       "      <td>Exec-managerial</td>\n",
       "      <td>Not-in-family</td>\n",
       "      <td>White</td>\n",
       "      <td>Male</td>\n",
       "      <td>0</td>\n",
       "      <td>0</td>\n",
       "      <td>50</td>\n",
       "      <td>United-States</td>\n",
       "      <td>&gt;50K</td>\n",
       "    </tr>\n",
       "    <tr>\n",
       "      <th>10962</th>\n",
       "      <td>21</td>\n",
       "      <td>Private</td>\n",
       "      <td>334618</td>\n",
       "      <td>Some-college</td>\n",
       "      <td>10</td>\n",
       "      <td>Never-married</td>\n",
       "      <td>Protective-serv</td>\n",
       "      <td>Not-in-family</td>\n",
       "      <td>Black</td>\n",
       "      <td>Female</td>\n",
       "      <td>99999</td>\n",
       "      <td>0</td>\n",
       "      <td>40</td>\n",
       "      <td>United-States</td>\n",
       "      <td>&gt;50K</td>\n",
       "    </tr>\n",
       "    <tr>\n",
       "      <th>12847</th>\n",
       "      <td>21</td>\n",
       "      <td>Private</td>\n",
       "      <td>548303</td>\n",
       "      <td>HS-grad</td>\n",
       "      <td>9</td>\n",
       "      <td>Married-civ-spouse</td>\n",
       "      <td>Prof-specialty</td>\n",
       "      <td>Own-child</td>\n",
       "      <td>White</td>\n",
       "      <td>Male</td>\n",
       "      <td>0</td>\n",
       "      <td>0</td>\n",
       "      <td>40</td>\n",
       "      <td>Mexico</td>\n",
       "      <td>&gt;50K</td>\n",
       "    </tr>\n",
       "    <tr>\n",
       "      <th>14279</th>\n",
       "      <td>22</td>\n",
       "      <td>Private</td>\n",
       "      <td>231053</td>\n",
       "      <td>11th</td>\n",
       "      <td>7</td>\n",
       "      <td>Married-civ-spouse</td>\n",
       "      <td>Machine-op-inspct</td>\n",
       "      <td>Husband</td>\n",
       "      <td>White</td>\n",
       "      <td>Male</td>\n",
       "      <td>0</td>\n",
       "      <td>0</td>\n",
       "      <td>70</td>\n",
       "      <td>United-States</td>\n",
       "      <td>&gt;50K</td>\n",
       "    </tr>\n",
       "    <tr>\n",
       "      <th>14684</th>\n",
       "      <td>22</td>\n",
       "      <td>Private</td>\n",
       "      <td>374313</td>\n",
       "      <td>HS-grad</td>\n",
       "      <td>9</td>\n",
       "      <td>Married-civ-spouse</td>\n",
       "      <td>Transport-moving</td>\n",
       "      <td>Husband</td>\n",
       "      <td>White</td>\n",
       "      <td>Male</td>\n",
       "      <td>0</td>\n",
       "      <td>0</td>\n",
       "      <td>50</td>\n",
       "      <td>United-States</td>\n",
       "      <td>&gt;50K</td>\n",
       "    </tr>\n",
       "    <tr>\n",
       "      <th>16489</th>\n",
       "      <td>22</td>\n",
       "      <td>Private</td>\n",
       "      <td>401451</td>\n",
       "      <td>Some-college</td>\n",
       "      <td>10</td>\n",
       "      <td>Married-civ-spouse</td>\n",
       "      <td>Transport-moving</td>\n",
       "      <td>Husband</td>\n",
       "      <td>White</td>\n",
       "      <td>Male</td>\n",
       "      <td>0</td>\n",
       "      <td>0</td>\n",
       "      <td>48</td>\n",
       "      <td>United-States</td>\n",
       "      <td>&gt;50K</td>\n",
       "    </tr>\n",
       "    <tr>\n",
       "      <th>19701</th>\n",
       "      <td>23</td>\n",
       "      <td>Private</td>\n",
       "      <td>102942</td>\n",
       "      <td>Bachelors</td>\n",
       "      <td>13</td>\n",
       "      <td>Never-married</td>\n",
       "      <td>Prof-specialty</td>\n",
       "      <td>Own-child</td>\n",
       "      <td>White</td>\n",
       "      <td>Female</td>\n",
       "      <td>0</td>\n",
       "      <td>2258</td>\n",
       "      <td>40</td>\n",
       "      <td>United-States</td>\n",
       "      <td>&gt;50K</td>\n",
       "    </tr>\n",
       "    <tr>\n",
       "      <th>22040</th>\n",
       "      <td>23</td>\n",
       "      <td>State-gov</td>\n",
       "      <td>287988</td>\n",
       "      <td>Bachelors</td>\n",
       "      <td>13</td>\n",
       "      <td>Never-married</td>\n",
       "      <td>Prof-specialty</td>\n",
       "      <td>Not-in-family</td>\n",
       "      <td>White</td>\n",
       "      <td>Male</td>\n",
       "      <td>10520</td>\n",
       "      <td>0</td>\n",
       "      <td>40</td>\n",
       "      <td>United-States</td>\n",
       "      <td>&gt;50K</td>\n",
       "    </tr>\n",
       "    <tr>\n",
       "      <th>22910</th>\n",
       "      <td>19</td>\n",
       "      <td>?</td>\n",
       "      <td>200790</td>\n",
       "      <td>12th</td>\n",
       "      <td>8</td>\n",
       "      <td>Married-civ-spouse</td>\n",
       "      <td>?</td>\n",
       "      <td>Other-relative</td>\n",
       "      <td>White</td>\n",
       "      <td>Female</td>\n",
       "      <td>15024</td>\n",
       "      <td>0</td>\n",
       "      <td>40</td>\n",
       "      <td>United-States</td>\n",
       "      <td>&gt;50K</td>\n",
       "    </tr>\n",
       "    <tr>\n",
       "      <th>22912</th>\n",
       "      <td>23</td>\n",
       "      <td>Local-gov</td>\n",
       "      <td>197918</td>\n",
       "      <td>Some-college</td>\n",
       "      <td>10</td>\n",
       "      <td>Never-married</td>\n",
       "      <td>Protective-serv</td>\n",
       "      <td>Own-child</td>\n",
       "      <td>White</td>\n",
       "      <td>Male</td>\n",
       "      <td>0</td>\n",
       "      <td>0</td>\n",
       "      <td>40</td>\n",
       "      <td>United-States</td>\n",
       "      <td>&gt;50K</td>\n",
       "    </tr>\n",
       "    <tr>\n",
       "      <th>23273</th>\n",
       "      <td>22</td>\n",
       "      <td>Private</td>\n",
       "      <td>127768</td>\n",
       "      <td>Some-college</td>\n",
       "      <td>10</td>\n",
       "      <td>Never-married</td>\n",
       "      <td>Other-service</td>\n",
       "      <td>Own-child</td>\n",
       "      <td>White</td>\n",
       "      <td>Male</td>\n",
       "      <td>0</td>\n",
       "      <td>0</td>\n",
       "      <td>32</td>\n",
       "      <td>United-States</td>\n",
       "      <td>&gt;50K</td>\n",
       "    </tr>\n",
       "    <tr>\n",
       "      <th>23402</th>\n",
       "      <td>23</td>\n",
       "      <td>Private</td>\n",
       "      <td>65481</td>\n",
       "      <td>HS-grad</td>\n",
       "      <td>9</td>\n",
       "      <td>Married-civ-spouse</td>\n",
       "      <td>Machine-op-inspct</td>\n",
       "      <td>Wife</td>\n",
       "      <td>White</td>\n",
       "      <td>Female</td>\n",
       "      <td>0</td>\n",
       "      <td>0</td>\n",
       "      <td>40</td>\n",
       "      <td>United-States</td>\n",
       "      <td>&gt;50K</td>\n",
       "    </tr>\n",
       "    <tr>\n",
       "      <th>24376</th>\n",
       "      <td>22</td>\n",
       "      <td>Private</td>\n",
       "      <td>233955</td>\n",
       "      <td>Bachelors</td>\n",
       "      <td>13</td>\n",
       "      <td>Never-married</td>\n",
       "      <td>Prof-specialty</td>\n",
       "      <td>Not-in-family</td>\n",
       "      <td>Amer-Indian-Eskimo</td>\n",
       "      <td>Female</td>\n",
       "      <td>14344</td>\n",
       "      <td>0</td>\n",
       "      <td>40</td>\n",
       "      <td>United-States</td>\n",
       "      <td>&gt;50K</td>\n",
       "    </tr>\n",
       "    <tr>\n",
       "      <th>25141</th>\n",
       "      <td>23</td>\n",
       "      <td>Private</td>\n",
       "      <td>41721</td>\n",
       "      <td>Assoc-voc</td>\n",
       "      <td>11</td>\n",
       "      <td>Married-civ-spouse</td>\n",
       "      <td>Craft-repair</td>\n",
       "      <td>Husband</td>\n",
       "      <td>White</td>\n",
       "      <td>Male</td>\n",
       "      <td>0</td>\n",
       "      <td>0</td>\n",
       "      <td>55</td>\n",
       "      <td>United-States</td>\n",
       "      <td>&gt;50K</td>\n",
       "    </tr>\n",
       "    <tr>\n",
       "      <th>25629</th>\n",
       "      <td>22</td>\n",
       "      <td>Private</td>\n",
       "      <td>119592</td>\n",
       "      <td>Assoc-acdm</td>\n",
       "      <td>12</td>\n",
       "      <td>Never-married</td>\n",
       "      <td>Handlers-cleaners</td>\n",
       "      <td>Not-in-family</td>\n",
       "      <td>Black</td>\n",
       "      <td>Male</td>\n",
       "      <td>0</td>\n",
       "      <td>2824</td>\n",
       "      <td>40</td>\n",
       "      <td>?</td>\n",
       "      <td>&gt;50K</td>\n",
       "    </tr>\n",
       "    <tr>\n",
       "      <th>29889</th>\n",
       "      <td>22</td>\n",
       "      <td>Private</td>\n",
       "      <td>228306</td>\n",
       "      <td>Some-college</td>\n",
       "      <td>10</td>\n",
       "      <td>Married-AF-spouse</td>\n",
       "      <td>Other-service</td>\n",
       "      <td>Wife</td>\n",
       "      <td>White</td>\n",
       "      <td>Female</td>\n",
       "      <td>0</td>\n",
       "      <td>0</td>\n",
       "      <td>40</td>\n",
       "      <td>United-States</td>\n",
       "      <td>&gt;50K</td>\n",
       "    </tr>\n",
       "    <tr>\n",
       "      <th>29919</th>\n",
       "      <td>23</td>\n",
       "      <td>Private</td>\n",
       "      <td>380544</td>\n",
       "      <td>Some-college</td>\n",
       "      <td>10</td>\n",
       "      <td>Married-civ-spouse</td>\n",
       "      <td>Adm-clerical</td>\n",
       "      <td>Husband</td>\n",
       "      <td>White</td>\n",
       "      <td>Male</td>\n",
       "      <td>0</td>\n",
       "      <td>0</td>\n",
       "      <td>40</td>\n",
       "      <td>United-States</td>\n",
       "      <td>&gt;50K</td>\n",
       "    </tr>\n",
       "    <tr>\n",
       "      <th>31111</th>\n",
       "      <td>22</td>\n",
       "      <td>Self-emp-not-inc</td>\n",
       "      <td>214014</td>\n",
       "      <td>Some-college</td>\n",
       "      <td>10</td>\n",
       "      <td>Never-married</td>\n",
       "      <td>Sales</td>\n",
       "      <td>Own-child</td>\n",
       "      <td>Black</td>\n",
       "      <td>Male</td>\n",
       "      <td>99999</td>\n",
       "      <td>0</td>\n",
       "      <td>55</td>\n",
       "      <td>United-States</td>\n",
       "      <td>&gt;50K</td>\n",
       "    </tr>\n",
       "    <tr>\n",
       "      <th>31357</th>\n",
       "      <td>23</td>\n",
       "      <td>Private</td>\n",
       "      <td>143003</td>\n",
       "      <td>Masters</td>\n",
       "      <td>14</td>\n",
       "      <td>Married-civ-spouse</td>\n",
       "      <td>Prof-specialty</td>\n",
       "      <td>Husband</td>\n",
       "      <td>Asian-Pac-Islander</td>\n",
       "      <td>Male</td>\n",
       "      <td>0</td>\n",
       "      <td>1887</td>\n",
       "      <td>50</td>\n",
       "      <td>India</td>\n",
       "      <td>&gt;50K</td>\n",
       "    </tr>\n",
       "    <tr>\n",
       "      <th>31469</th>\n",
       "      <td>23</td>\n",
       "      <td>Private</td>\n",
       "      <td>38707</td>\n",
       "      <td>Some-college</td>\n",
       "      <td>10</td>\n",
       "      <td>Married-civ-spouse</td>\n",
       "      <td>Transport-moving</td>\n",
       "      <td>Husband</td>\n",
       "      <td>White</td>\n",
       "      <td>Male</td>\n",
       "      <td>0</td>\n",
       "      <td>0</td>\n",
       "      <td>60</td>\n",
       "      <td>United-States</td>\n",
       "      <td>&gt;50K</td>\n",
       "    </tr>\n",
       "    <tr>\n",
       "      <th>32214</th>\n",
       "      <td>22</td>\n",
       "      <td>Local-gov</td>\n",
       "      <td>164775</td>\n",
       "      <td>5th-6th</td>\n",
       "      <td>3</td>\n",
       "      <td>Never-married</td>\n",
       "      <td>Handlers-cleaners</td>\n",
       "      <td>Other-relative</td>\n",
       "      <td>White</td>\n",
       "      <td>Male</td>\n",
       "      <td>0</td>\n",
       "      <td>0</td>\n",
       "      <td>40</td>\n",
       "      <td>Guatemala</td>\n",
       "      <td>&gt;50K</td>\n",
       "    </tr>\n",
       "  </tbody>\n",
       "</table>\n",
       "</div>"
      ],
      "text/plain": [
       "       age          workclass  fnlwgt      education  education-num  \\\n",
       "1826    22   Self-emp-not-inc  202920        HS-grad              9   \n",
       "2332    23   Self-emp-not-inc  282604           11th              7   \n",
       "4359    22            Private  195532      Bachelors             13   \n",
       "5397    23   Self-emp-not-inc  258298      Bachelors             13   \n",
       "5624    21            Private  216070     Assoc-acdm             12   \n",
       "6581    23            Private   44064   Some-college             10   \n",
       "7741    19            Private  323605        7th-8th              4   \n",
       "8633    23            Private  106957           11th              7   \n",
       "9605    22            Private  100345      Bachelors             13   \n",
       "9688    22          State-gov  186634           12th              8   \n",
       "10962   21            Private  334618   Some-college             10   \n",
       "12847   21            Private  548303        HS-grad              9   \n",
       "14279   22            Private  231053           11th              7   \n",
       "14684   22            Private  374313        HS-grad              9   \n",
       "16489   22            Private  401451   Some-college             10   \n",
       "19701   23            Private  102942      Bachelors             13   \n",
       "22040   23          State-gov  287988      Bachelors             13   \n",
       "22910   19                  ?  200790           12th              8   \n",
       "22912   23          Local-gov  197918   Some-college             10   \n",
       "23273   22            Private  127768   Some-college             10   \n",
       "23402   23            Private   65481        HS-grad              9   \n",
       "24376   22            Private  233955      Bachelors             13   \n",
       "25141   23            Private   41721      Assoc-voc             11   \n",
       "25629   22            Private  119592     Assoc-acdm             12   \n",
       "29889   22            Private  228306   Some-college             10   \n",
       "29919   23            Private  380544   Some-college             10   \n",
       "31111   22   Self-emp-not-inc  214014   Some-college             10   \n",
       "31357   23            Private  143003        Masters             14   \n",
       "31469   23            Private   38707   Some-college             10   \n",
       "32214   22          Local-gov  164775        5th-6th              3   \n",
       "\n",
       "            marital-status          occupation     relationship  \\\n",
       "1826         Never-married      Prof-specialty        Unmarried   \n",
       "2332    Married-civ-spouse    Transport-moving          Husband   \n",
       "4359         Never-married      Prof-specialty    Not-in-family   \n",
       "5397         Never-married        Adm-clerical        Own-child   \n",
       "5624    Married-civ-spouse        Adm-clerical             Wife   \n",
       "6581             Separated       Other-service    Not-in-family   \n",
       "7741         Never-married       Other-service    Not-in-family   \n",
       "8633         Never-married        Craft-repair        Own-child   \n",
       "9605         Never-married        Craft-repair    Not-in-family   \n",
       "9688         Never-married     Exec-managerial    Not-in-family   \n",
       "10962        Never-married     Protective-serv    Not-in-family   \n",
       "12847   Married-civ-spouse      Prof-specialty        Own-child   \n",
       "14279   Married-civ-spouse   Machine-op-inspct          Husband   \n",
       "14684   Married-civ-spouse    Transport-moving          Husband   \n",
       "16489   Married-civ-spouse    Transport-moving          Husband   \n",
       "19701        Never-married      Prof-specialty        Own-child   \n",
       "22040        Never-married      Prof-specialty    Not-in-family   \n",
       "22910   Married-civ-spouse                   ?   Other-relative   \n",
       "22912        Never-married     Protective-serv        Own-child   \n",
       "23273        Never-married       Other-service        Own-child   \n",
       "23402   Married-civ-spouse   Machine-op-inspct             Wife   \n",
       "24376        Never-married      Prof-specialty    Not-in-family   \n",
       "25141   Married-civ-spouse        Craft-repair          Husband   \n",
       "25629        Never-married   Handlers-cleaners    Not-in-family   \n",
       "29889    Married-AF-spouse       Other-service             Wife   \n",
       "29919   Married-civ-spouse        Adm-clerical          Husband   \n",
       "31111        Never-married               Sales        Own-child   \n",
       "31357   Married-civ-spouse      Prof-specialty          Husband   \n",
       "31469   Married-civ-spouse    Transport-moving          Husband   \n",
       "32214        Never-married   Handlers-cleaners   Other-relative   \n",
       "\n",
       "                      race      sex  capital-gain  capital-loss  \\\n",
       "1826                 White   Female         99999             0   \n",
       "2332                 White     Male          7688             0   \n",
       "4359                 White   Female          8614             0   \n",
       "5397                 White     Male             0          2231   \n",
       "5624    Amer-Indian-Eskimo   Female             0             0   \n",
       "6581                 White     Male             0          2559   \n",
       "7741                 White     Male             0             0   \n",
       "8633    Asian-Pac-Islander     Male         14344             0   \n",
       "9605                 White     Male         13550             0   \n",
       "9688                 White     Male             0             0   \n",
       "10962                Black   Female         99999             0   \n",
       "12847                White     Male             0             0   \n",
       "14279                White     Male             0             0   \n",
       "14684                White     Male             0             0   \n",
       "16489                White     Male             0             0   \n",
       "19701                White   Female             0          2258   \n",
       "22040                White     Male         10520             0   \n",
       "22910                White   Female         15024             0   \n",
       "22912                White     Male             0             0   \n",
       "23273                White     Male             0             0   \n",
       "23402                White   Female             0             0   \n",
       "24376   Amer-Indian-Eskimo   Female         14344             0   \n",
       "25141                White     Male             0             0   \n",
       "25629                Black     Male             0          2824   \n",
       "29889                White   Female             0             0   \n",
       "29919                White     Male             0             0   \n",
       "31111                Black     Male         99999             0   \n",
       "31357   Asian-Pac-Islander     Male             0          1887   \n",
       "31469                White     Male             0             0   \n",
       "32214                White     Male             0             0   \n",
       "\n",
       "       hours-per-week       native-country income  \n",
       "1826               40   Dominican-Republic   >50K  \n",
       "2332               60        United-States   >50K  \n",
       "4359               40        United-States   >50K  \n",
       "5397               40        United-States   >50K  \n",
       "5624               46        United-States   >50K  \n",
       "6581               40        United-States   >50K  \n",
       "7741               60        United-States   >50K  \n",
       "8633               40              Vietnam   >50K  \n",
       "9605               55        United-States   >50K  \n",
       "9688               50        United-States   >50K  \n",
       "10962              40        United-States   >50K  \n",
       "12847              40               Mexico   >50K  \n",
       "14279              70        United-States   >50K  \n",
       "14684              50        United-States   >50K  \n",
       "16489              48        United-States   >50K  \n",
       "19701              40        United-States   >50K  \n",
       "22040              40        United-States   >50K  \n",
       "22910              40        United-States   >50K  \n",
       "22912              40        United-States   >50K  \n",
       "23273              32        United-States   >50K  \n",
       "23402              40        United-States   >50K  \n",
       "24376              40        United-States   >50K  \n",
       "25141              55        United-States   >50K  \n",
       "25629              40                    ?   >50K  \n",
       "29889              40        United-States   >50K  \n",
       "29919              40        United-States   >50K  \n",
       "31111              55        United-States   >50K  \n",
       "31357              50                India   >50K  \n",
       "31469              60        United-States   >50K  \n",
       "32214              40            Guatemala   >50K  "
      ]
     },
     "execution_count": 25,
     "metadata": {},
     "output_type": "execute_result"
    }
   ],
   "source": [
    "data[(data['age']<=23) & (data['income']==' >50K')]"
   ]
  },
  {
   "cell_type": "code",
   "execution_count": 29,
   "id": "textile-desire",
   "metadata": {},
   "outputs": [
    {
     "data": {
      "text/plain": [
       "<matplotlib.axes._subplots.AxesSubplot at 0x183fdd0a5e0>"
      ]
     },
     "execution_count": 29,
     "metadata": {},
     "output_type": "execute_result"
    },
    {
     "data": {
      "image/png": "[encoded data removed]",
      "text/plain": [
       "<Figure size 432x288 with 1 Axes>"
      ]
     },
     "metadata": {
      "needs_background": "light"
     },
     "output_type": "display_data"
    }
   ],
   "source": [
    "data['income'].value_counts().plot.bar()"
   ]
  },
  {
   "cell_type": "code",
   "execution_count": 28,
   "id": "peripheral-cigarette",
   "metadata": {},
   "outputs": [
    {
     "data": {
      "text/plain": [
       "<matplotlib.axes._subplots.AxesSubplot at 0x183fdc533a0>"
      ]
     },
     "execution_count": 28,
     "metadata": {},
     "output_type": "execute_result"
    },
    {
     "data": {
      "image/png": "[encoded data removed]",
      "text/plain": [
       "<Figure size 432x288 with 1 Axes>"
      ]
     },
     "metadata": {
      "needs_background": "light"
     },
     "output_type": "display_data"
    }
   ],
   "source": [
    "data[data['occupation']==' ?']['income'].value_counts().plot.bar()"
   ]
  },
  {
   "cell_type": "markdown",
   "id": "adapted-motorcycle",
   "metadata": {},
   "source": [
    "Missing Value Strategy\n"
   ]
  },
  {
   "cell_type": "code",
   "execution_count": 40,
   "id": "proper-prison",
   "metadata": {},
   "outputs": [
    {
     "data": {
      "text/plain": [
       "age                  0\n",
       "workclass         1836\n",
       "fnlwgt               0\n",
       "education            0\n",
       "education-num        0\n",
       "marital-status       0\n",
       "occupation        1843\n",
       "relationship         0\n",
       "race                 0\n",
       "sex                  0\n",
       "capital-gain         0\n",
       "capital-loss         0\n",
       "hours-per-week       0\n",
       "native-country     583\n",
       "income               0\n",
       "dtype: int64"
      ]
     },
     "execution_count": 40,
     "metadata": {},
     "output_type": "execute_result"
    }
   ],
   "source": [
    "data[data==' ?'].count()"
   ]
  },
  {
   "cell_type": "code",
   "execution_count": 41,
   "id": "plain-jamaica",
   "metadata": {},
   "outputs": [],
   "source": [
    "df_clean=data[data!=' ?']"
   ]
  },
  {
   "cell_type": "code",
   "execution_count": 42,
   "id": "early-message",
   "metadata": {},
   "outputs": [
    {
     "data": {
      "text/plain": [
       "age                  0\n",
       "workclass         1836\n",
       "fnlwgt               0\n",
       "education            0\n",
       "education-num        0\n",
       "marital-status       0\n",
       "occupation        1843\n",
       "relationship         0\n",
       "race                 0\n",
       "sex                  0\n",
       "capital-gain         0\n",
       "capital-loss         0\n",
       "hours-per-week       0\n",
       "native-country     583\n",
       "income               0\n",
       "dtype: int64"
      ]
     },
     "execution_count": 42,
     "metadata": {},
     "output_type": "execute_result"
    }
   ],
   "source": [
    "df_clean.isnull().sum()"
   ]
  },
  {
   "cell_type": "code",
   "execution_count": 43,
   "id": "dental-graduation",
   "metadata": {},
   "outputs": [
    {
     "data": {
      "text/plain": [
       "age                  0\n",
       "workclass         1836\n",
       "fnlwgt               0\n",
       "education            0\n",
       "education-num        0\n",
       "marital-status       0\n",
       "occupation        1843\n",
       "relationship         0\n",
       "race                 0\n",
       "sex                  0\n",
       "capital-gain         0\n",
       "capital-loss         0\n",
       "hours-per-week       0\n",
       "native-country     583\n",
       "income               0\n",
       "dtype: int64"
      ]
     },
     "execution_count": 43,
     "metadata": {},
     "output_type": "execute_result"
    }
   ],
   "source": [
    "df_clean.isnull().sum() #21st April 2021"
   ]
  },
  {
   "cell_type": "code",
   "execution_count": 44,
   "id": "useful-discipline",
   "metadata": {},
   "outputs": [],
   "source": [
    "df_clean=df_clean.dropna()"
   ]
  },
  {
   "cell_type": "code",
   "execution_count": 45,
   "id": "assisted-diameter",
   "metadata": {},
   "outputs": [
    {
     "data": {
      "text/plain": [
       " Private             22286\n",
       " Self-emp-not-inc     2499\n",
       " Local-gov            2067\n",
       " State-gov            1279\n",
       " Self-emp-inc         1074\n",
       " Federal-gov           943\n",
       " Without-pay            14\n",
       "Name: workclass, dtype: int64"
      ]
     },
     "execution_count": 45,
     "metadata": {},
     "output_type": "execute_result"
    }
   ],
   "source": [
    "df_clean['workclass'].value_counts()"
   ]
  },
  {
   "cell_type": "code",
   "execution_count": 46,
   "id": "genetic-trailer",
   "metadata": {},
   "outputs": [
    {
     "data": {
      "text/plain": [
       "((30162, 15), (32561, 15))"
      ]
     },
     "execution_count": 46,
     "metadata": {},
     "output_type": "execute_result"
    }
   ],
   "source": [
    "df_clean.shape,data.shape"
   ]
  },
  {
   "cell_type": "markdown",
   "id": "pressed-traffic",
   "metadata": {},
   "source": [
    "##### Missing value treatment using mode imputation "
   ]
  },
  {
   "cell_type": "code",
   "execution_count": 47,
   "id": "fossil-trademark",
   "metadata": {},
   "outputs": [],
   "source": [
    "df_mode=data[data!=' ?']"
   ]
  },
  {
   "cell_type": "code",
   "execution_count": 49,
   "id": "korean-concentration",
   "metadata": {},
   "outputs": [],
   "source": [
    "df_mode['workclass']=df_mode['workclass'].fillna(df_mode['workclass'].mode()[0])"
   ]
  },
  {
   "cell_type": "code",
   "execution_count": 50,
   "id": "unknown-quebec",
   "metadata": {},
   "outputs": [],
   "source": [
    "df_mode['occupation']=df_mode['occupation'].fillna(df_mode['occupation'].mode()[0])"
   ]
  },
  {
   "cell_type": "code",
   "execution_count": 51,
   "id": "attractive-maryland",
   "metadata": {},
   "outputs": [],
   "source": [
    "df_mode['native-country']=df_mode['native-country'].fillna(df_mode['occupation'].mode()[0])"
   ]
  },
  {
   "cell_type": "code",
   "execution_count": 48,
   "id": "disturbed-scanner",
   "metadata": {},
   "outputs": [
    {
     "name": "stdout",
     "output_type": "stream",
     "text": [
      "<class 'pandas.core.frame.DataFrame'>\n",
      "RangeIndex: 32561 entries, 0 to 32560\n",
      "Data columns (total 15 columns):\n",
      " #   Column          Non-Null Count  Dtype \n",
      "---  ------          --------------  ----- \n",
      " 0   age             32561 non-null  int64 \n",
      " 1   workclass       32561 non-null  object\n",
      " 2   fnlwgt          32561 non-null  int64 \n",
      " 3   education       32561 non-null  object\n",
      " 4   education-num   32561 non-null  int64 \n",
      " 5   marital-status  32561 non-null  object\n",
      " 6   occupation      32561 non-null  object\n",
      " 7   relationship    32561 non-null  object\n",
      " 8   race            32561 non-null  object\n",
      " 9   sex             32561 non-null  object\n",
      " 10  capital-gain    32561 non-null  int64 \n",
      " 11  capital-loss    32561 non-null  int64 \n",
      " 12  hours-per-week  32561 non-null  int64 \n",
      " 13  native-country  32561 non-null  object\n",
      " 14  income          32561 non-null  object\n",
      "dtypes: int64(6), object(9)\n",
      "memory usage: 3.7+ MB\n"
     ]
    }
   ],
   "source": [
    "data.info()"
   ]
  },
  {
   "cell_type": "code",
   "execution_count": 60,
   "id": "educational-dividend",
   "metadata": {},
   "outputs": [
    {
     "data": {
      "text/plain": [
       "0        13\n",
       "1        13\n",
       "2         9\n",
       "3         7\n",
       "4        13\n",
       "         ..\n",
       "32556    12\n",
       "32557     9\n",
       "32558     9\n",
       "32559     9\n",
       "32560     9\n",
       "Name: education-num, Length: 32561, dtype: int64"
      ]
     },
     "execution_count": 60,
     "metadata": {},
     "output_type": "execute_result"
    }
   ],
   "source": [
    "data['education-num']"
   ]
  },
  {
   "cell_type": "markdown",
   "id": "69559648",
   "metadata": {},
   "source": [
    "## Data Transformation"
   ]
  },
  {
   "cell_type": "code",
   "execution_count": 52,
   "id": "utility-shield",
   "metadata": {},
   "outputs": [],
   "source": [
    "list_transformation=['capital-loss','capital-gain','age','hours-per-week']"
   ]
  },
  {
   "cell_type": "code",
   "execution_count": 62,
   "id": "blank-mailman",
   "metadata": {},
   "outputs": [
    {
     "data": {
      "text/plain": [
       "count    32561.000000\n",
       "mean        38.581647\n",
       "std         13.640433\n",
       "min         17.000000\n",
       "25%         28.000000\n",
       "50%         37.000000\n",
       "75%         48.000000\n",
       "max         90.000000\n",
       "Name: age, dtype: float64"
      ]
     },
     "execution_count": 62,
     "metadata": {},
     "output_type": "execute_result"
    }
   ],
   "source": [
    "df_mode['age'].describe()"
   ]
  },
  {
   "cell_type": "code",
   "execution_count": 63,
   "id": "ambient-congo",
   "metadata": {},
   "outputs": [
    {
     "data": {
      "text/plain": [
       "0        middle_age\n",
       "1        middle_age\n",
       "2        middle_age\n",
       "3               SC1\n",
       "4             youth\n",
       "            ...    \n",
       "32556         youth\n",
       "32557    middle_age\n",
       "32558           SC1\n",
       "32559         youth\n",
       "32560           SC1\n",
       "Name: age, Length: 32561, dtype: category\n",
       "Categories (4, object): ['youth' < 'middle_age' < 'SC1' < 'SC2']"
      ]
     },
     "execution_count": 63,
     "metadata": {},
     "output_type": "execute_result"
    }
   ],
   "source": [
    "pd.cut(df_mode['age'],bins=[17,34,51,68,90],labels=['youth','middle_age','SC1','SC2'])"
   ]
  },
  {
   "cell_type": "code",
   "execution_count": 64,
   "id": "floating-manner",
   "metadata": {},
   "outputs": [
    {
     "data": {
      "text/plain": [
       "count    32561.000000\n",
       "mean        40.437456\n",
       "std         12.347429\n",
       "min          1.000000\n",
       "25%         40.000000\n",
       "50%         40.000000\n",
       "75%         45.000000\n",
       "max         99.000000\n",
       "Name: hours-per-week, dtype: float64"
      ]
     },
     "execution_count": 64,
     "metadata": {},
     "output_type": "execute_result"
    }
   ],
   "source": [
    "df_mode['hours-per-week'].describe()"
   ]
  },
  {
   "cell_type": "code",
   "execution_count": 65,
   "id": "permanent-awareness",
   "metadata": {},
   "outputs": [
    {
     "data": {
      "text/plain": [
       "0        (33.667, 66.333]\n",
       "1         (0.902, 33.667]\n",
       "2        (33.667, 66.333]\n",
       "3        (33.667, 66.333]\n",
       "4        (33.667, 66.333]\n",
       "               ...       \n",
       "32556    (33.667, 66.333]\n",
       "32557    (33.667, 66.333]\n",
       "32558    (33.667, 66.333]\n",
       "32559     (0.902, 33.667]\n",
       "32560    (33.667, 66.333]\n",
       "Name: hours-per-week, Length: 32561, dtype: category\n",
       "Categories (3, interval[float64]): [(0.902, 33.667] < (33.667, 66.333] < (66.333, 99.0]]"
      ]
     },
     "execution_count": 65,
     "metadata": {},
     "output_type": "execute_result"
    }
   ],
   "source": [
    "pd.cut(df_mode['hours-per-week'],bins=3)"
   ]
  },
  {
   "cell_type": "code",
   "execution_count": 66,
   "id": "flying-potential",
   "metadata": {},
   "outputs": [
    {
     "data": {
      "text/plain": [
       "0        average\n",
       "1            low\n",
       "2        average\n",
       "3        average\n",
       "4        average\n",
       "          ...   \n",
       "32556    average\n",
       "32557    average\n",
       "32558    average\n",
       "32559        low\n",
       "32560    average\n",
       "Name: hours-per-week, Length: 32561, dtype: category\n",
       "Categories (3, object): ['low' < 'average' < 'high']"
      ]
     },
     "execution_count": 66,
     "metadata": {},
     "output_type": "execute_result"
    }
   ],
   "source": [
    "pd.cut(df_mode['hours-per-week'],bins=[1,35,65,99],labels=['low','average','high'])"
   ]
  },
  {
   "cell_type": "code",
   "execution_count": 67,
   "id": "certain-environment",
   "metadata": {},
   "outputs": [
    {
     "data": {
      "text/plain": [
       "0        (-4.356, 1452.0]\n",
       "1        (-4.356, 1452.0]\n",
       "2        (-4.356, 1452.0]\n",
       "3        (-4.356, 1452.0]\n",
       "4        (-4.356, 1452.0]\n",
       "               ...       \n",
       "32556    (-4.356, 1452.0]\n",
       "32557    (-4.356, 1452.0]\n",
       "32558    (-4.356, 1452.0]\n",
       "32559    (-4.356, 1452.0]\n",
       "32560    (-4.356, 1452.0]\n",
       "Name: capital-loss, Length: 32561, dtype: category\n",
       "Categories (3, interval[float64]): [(-4.356, 1452.0] < (1452.0, 2904.0] < (2904.0, 4356.0]]"
      ]
     },
     "execution_count": 67,
     "metadata": {},
     "output_type": "execute_result"
    }
   ],
   "source": [
    "pd.cut(df_mode['capital-loss'],bins=3)"
   ]
  },
  {
   "cell_type": "code",
   "execution_count": 68,
   "id": "pressing-wrapping",
   "metadata": {},
   "outputs": [
    {
     "data": {
      "text/plain": [
       "0        low\n",
       "1        low\n",
       "2        low\n",
       "3        low\n",
       "4        low\n",
       "        ... \n",
       "32556    low\n",
       "32557    low\n",
       "32558    low\n",
       "32559    low\n",
       "32560    low\n",
       "Name: capital-loss, Length: 32561, dtype: category\n",
       "Categories (3, object): ['low' < 'medium' < 'high']"
      ]
     },
     "execution_count": 68,
     "metadata": {},
     "output_type": "execute_result"
    }
   ],
   "source": [
    "pd.cut(df_mode['capital-loss'],bins=[-4,1500,3000,4500],labels=['low','medium','high'])"
   ]
  },
  {
   "cell_type": "code",
   "execution_count": 69,
   "id": "sunrise-break",
   "metadata": {},
   "outputs": [
    {
     "data": {
      "text/plain": [
       "0        (-99.999, 19999.8]\n",
       "1        (-99.999, 19999.8]\n",
       "2        (-99.999, 19999.8]\n",
       "3        (-99.999, 19999.8]\n",
       "4        (-99.999, 19999.8]\n",
       "                ...        \n",
       "32556    (-99.999, 19999.8]\n",
       "32557    (-99.999, 19999.8]\n",
       "32558    (-99.999, 19999.8]\n",
       "32559    (-99.999, 19999.8]\n",
       "32560    (-99.999, 19999.8]\n",
       "Name: capital-gain, Length: 32561, dtype: category\n",
       "Categories (5, interval[float64]): [(-99.999, 19999.8] < (19999.8, 39999.6] < (39999.6, 59999.4] < (59999.4, 79999.2] < (79999.2, 99999.0]]"
      ]
     },
     "execution_count": 69,
     "metadata": {},
     "output_type": "execute_result"
    }
   ],
   "source": [
    "pd.cut(df_mode['capital-gain'],bins=5)"
   ]
  },
  {
   "cell_type": "code",
   "execution_count": 70,
   "id": "coated-research",
   "metadata": {},
   "outputs": [
    {
     "data": {
      "text/plain": [
       "99999"
      ]
     },
     "execution_count": 70,
     "metadata": {},
     "output_type": "execute_result"
    }
   ],
   "source": [
    "df_mode['capital-gain'].max()"
   ]
  },
  {
   "cell_type": "code",
   "execution_count": 12,
   "id": "alive-guinea",
   "metadata": {},
   "outputs": [],
   "source": [
    "df_clean['age_bin']=pd.cut(df_clean['age'],bins=[0,17,27,37,47,57,67,77,87,100],labels=([\"<18\", \"18-27\", \"28-37\", \"38-47\",\"48-57\",\"58-67\",\"68-77\",\"78-87\", \">87\"]))"
   ]
  },
  {
   "cell_type": "code",
   "execution_count": 13,
   "id": "eastern-killing",
   "metadata": {},
   "outputs": [
    {
     "data": {
      "text/plain": [
       "0        38-47\n",
       "1        48-57\n",
       "2        38-47\n",
       "3        48-57\n",
       "4        28-37\n",
       "         ...  \n",
       "32556    18-27\n",
       "32557    38-47\n",
       "32558    58-67\n",
       "32559    18-27\n",
       "32560    48-57\n",
       "Name: age_bin, Length: 30162, dtype: category\n",
       "Categories (9, object): ['<18' < '18-27' < '28-37' < '38-47' ... '58-67' < '68-77' < '78-87' < '>87']"
      ]
     },
     "execution_count": 13,
     "metadata": {},
     "output_type": "execute_result"
    }
   ],
   "source": [
    "df_clean['age_bin']"
   ]
  },
  {
   "cell_type": "markdown",
   "id": "dangerous-nevada",
   "metadata": {},
   "source": [
    "## Exploratory Data Analysis "
   ]
  },
  {
   "cell_type": "code",
   "execution_count": 13,
   "id": "trained-difference",
   "metadata": {},
   "outputs": [
    {
     "data": {
      "text/plain": [
       "(32561, 15)"
      ]
     },
     "execution_count": 13,
     "metadata": {},
     "output_type": "execute_result"
    }
   ],
   "source": [
    "data.shape "
   ]
  },
  {
   "cell_type": "code",
   "execution_count": 20,
   "id": "sitting-anxiety",
   "metadata": {},
   "outputs": [
    {
     "data": {
      "text/plain": [
       "Index(['age', 'workclass', 'fnlwgt', 'education', 'education-num',\n",
       "       'marital-status', 'occupation', 'relationship', 'race', 'sex',\n",
       "       'capital-gain', 'capital-loss', 'hours-per-week', 'native-country',\n",
       "       'income', 'age_bin'],\n",
       "      dtype='object')"
      ]
     },
     "execution_count": 20,
     "metadata": {},
     "output_type": "execute_result"
    }
   ],
   "source": [
    "df_clean.columns"
   ]
  },
  {
   "cell_type": "code",
   "execution_count": 50,
   "id": "comparative-memorabilia",
   "metadata": {},
   "outputs": [
    {
     "data": {
      "text/plain": [
       "<seaborn.axisgrid.FacetGrid at 0x298a2128f10>"
      ]
     },
     "execution_count": 50,
     "metadata": {},
     "output_type": "execute_result"
    },
    {
     "data": {
      "text/plain": [
       "<Figure size 720x720 with 0 Axes>"
      ]
     },
     "metadata": {},
     "output_type": "display_data"
    },
    {
     "data": {
      "image/png": "[encoded data removed]",
      "text/plain": [
       "<Figure size 360x360 with 1 Axes>"
      ]
     },
     "metadata": {
      "needs_background": "light"
     },
     "output_type": "display_data"
    }
   ],
   "source": [
    "sns.catplot(data=df_clean,x='income',kind='count') "
   ]
  },
  {
   "cell_type": "code",
   "execution_count": 41,
   "id": "offensive-internship",
   "metadata": {},
   "outputs": [
    {
     "data": {
      "text/plain": [
       "<seaborn.axisgrid.FacetGrid at 0x298a27419a0>"
      ]
     },
     "execution_count": 41,
     "metadata": {},
     "output_type": "execute_result"
    },
    {
     "data": {
      "image/png": "[encoded data removed]",
      "text/plain": [
       "<Figure size 360x360 with 1 Axes>"
      ]
     },
     "metadata": {
      "needs_background": "light"
     },
     "output_type": "display_data"
    }
   ],
   "source": [
    "sns.catplot(data=df_clean,x='sex',kind='count')"
   ]
  },
  {
   "cell_type": "markdown",
   "id": "deluxe-henry",
   "metadata": {},
   "source": [
    "the age group with the largest population in the census are those between the ages of 18 and 48."
   ]
  },
  {
   "cell_type": "code",
   "execution_count": 21,
   "id": "overhead-lawsuit",
   "metadata": {},
   "outputs": [
    {
     "data": {
      "text/plain": [
       "<seaborn.axisgrid.FacetGrid at 0x298dd6bed90>"
      ]
     },
     "execution_count": 21,
     "metadata": {},
     "output_type": "execute_result"
    },
    {
     "data": {
      "image/png": "[encoded data removed]",
      "text/plain": [
       "<Figure size 360x360 with 1 Axes>"
      ]
     },
     "metadata": {
      "needs_background": "light"
     },
     "output_type": "display_data"
    }
   ],
   "source": [
    "sns.catplot(data=df_clean,x='age_bin',kind='count') "
   ]
  },
  {
   "cell_type": "markdown",
   "id": "frozen-waterproof",
   "metadata": {},
   "source": [
    "The percentage of income over 50K increases with age up to 50 - 55 years"
   ]
  },
  {
   "cell_type": "code",
   "execution_count": 58,
   "id": "distant-perspective",
   "metadata": {},
   "outputs": [
    {
     "data": {
      "text/plain": [
       "<seaborn.axisgrid.FacetGrid at 0x298a46df070>"
      ]
     },
     "execution_count": 58,
     "metadata": {},
     "output_type": "execute_result"
    },
    {
     "data": {
      "image/png": "[encoded data removed]",
      "text/plain": [
       "<Figure size 360x360 with 1 Axes>"
      ]
     },
     "metadata": {
      "needs_background": "light"
     },
     "output_type": "display_data"
    }
   ],
   "source": [
    "sns.catplot(data=df_clean,x='relationship',kind='count')"
   ]
  },
  {
   "cell_type": "code",
   "execution_count": 23,
   "id": "surface-savings",
   "metadata": {},
   "outputs": [
    {
     "data": {
      "text/plain": [
       "<matplotlib.axes._subplots.AxesSubplot at 0x298a1fafa90>"
      ]
     },
     "execution_count": 23,
     "metadata": {},
     "output_type": "execute_result"
    },
    {
     "data": {
      "image/png": "[encoded data removed]",
      "text/plain": [
       "<Figure size 432x288 with 1 Axes>"
      ]
     },
     "metadata": {
      "needs_background": "light"
     },
     "output_type": "display_data"
    }
   ],
   "source": [
    "sns.countplot(data=df_clean , x='age_bin' , hue = 'income' ) "
   ]
  },
  {
   "cell_type": "code",
   "execution_count": 24,
   "id": "overall-pharmacy",
   "metadata": {},
   "outputs": [
    {
     "data": {
      "text/plain": [
       "<matplotlib.axes._subplots.AxesSubplot at 0x298a1e50f40>"
      ]
     },
     "execution_count": 24,
     "metadata": {},
     "output_type": "execute_result"
    },
    {
     "data": {
      "image/png": "[encoded data removed]",
      "text/plain": [
       "<Figure size 432x288 with 1 Axes>"
      ]
     },
     "metadata": {
      "needs_background": "light"
     },
     "output_type": "display_data"
    }
   ],
   "source": [
    "sns.countplot(data=data, x='income' , hue='sex') "
   ]
  },
  {
   "cell_type": "code",
   "execution_count": 25,
   "id": "directed-springfield",
   "metadata": {},
   "outputs": [
    {
     "data": {
      "text/plain": [
       "<matplotlib.axes._subplots.AxesSubplot at 0x298a1eee910>"
      ]
     },
     "execution_count": 25,
     "metadata": {},
     "output_type": "execute_result"
    },
    {
     "data": {
      "image/png": "[encoded data removed]",
      "text/plain": [
       "<Figure size 432x288 with 1 Axes>"
      ]
     },
     "metadata": {
      "needs_background": "light"
     },
     "output_type": "display_data"
    }
   ],
   "source": [
    "sns.countplot(data=data, x='income' , hue='race')"
   ]
  },
  {
   "cell_type": "code",
   "execution_count": 26,
   "id": "electric-persian",
   "metadata": {},
   "outputs": [
    {
     "data": {
      "text/plain": [
       "<matplotlib.axes._subplots.AxesSubplot at 0x298a1fdd400>"
      ]
     },
     "execution_count": 26,
     "metadata": {},
     "output_type": "execute_result"
    },
    {
     "data": {
      "image/png": "[encoded data removed]",
      "text/plain": [
       "<Figure size 432x288 with 1 Axes>"
      ]
     },
     "metadata": {
      "needs_background": "light"
     },
     "output_type": "display_data"
    }
   ],
   "source": [
    "sns.countplot(data=data, x='income' , hue='relationship') "
   ]
  },
  {
   "cell_type": "code",
   "execution_count": 28,
   "id": "preliminary-container",
   "metadata": {},
   "outputs": [
    {
     "data": {
      "text/plain": [
       "<matplotlib.axes._subplots.AxesSubplot at 0x298a20f9220>"
      ]
     },
     "execution_count": 28,
     "metadata": {},
     "output_type": "execute_result"
    },
    {
     "data": {
      "image/png": "[encoded data removed]",
      "text/plain": [
       "<Figure size 864x360 with 1 Axes>"
      ]
     },
     "metadata": {
      "needs_background": "light"
     },
     "output_type": "display_data"
    }
   ],
   "source": [
    "fig = plt.figure(figsize=(12,5))\n",
    "sns.countplot(x='workclass',hue ='income',data=data) "
   ]
  },
  {
   "cell_type": "code",
   "execution_count": 40,
   "id": "elder-costa",
   "metadata": {},
   "outputs": [
    {
     "data": {
      "text/plain": [
       "<matplotlib.axes._subplots.AxesSubplot at 0x298a2e59e20>"
      ]
     },
     "execution_count": 40,
     "metadata": {},
     "output_type": "execute_result"
    },
    {
     "data": {
      "image/png": "[encoded data removed]",
      "text/plain": [
       "<Figure size 1656x432 with 1 Axes>"
      ]
     },
     "metadata": {
      "needs_background": "light"
     },
     "output_type": "display_data"
    }
   ],
   "source": [
    "fig = plt.figure(figsize=(23,6))\n",
    "sns.countplot(data=df_clean, x='occupation' , hue='income')"
   ]
  },
  {
   "cell_type": "code",
   "execution_count": 27,
   "id": "enormous-ethnic",
   "metadata": {},
   "outputs": [
    {
     "data": {
      "text/plain": [
       "<matplotlib.axes._subplots.AxesSubplot at 0x298a205b070>"
      ]
     },
     "execution_count": 27,
     "metadata": {},
     "output_type": "execute_result"
    },
    {
     "data": {
      "image/png": "[encoded data removed]",
      "text/plain": [
       "<Figure size 1296x432 with 1 Axes>"
      ]
     },
     "metadata": {
      "needs_background": "light"
     },
     "output_type": "display_data"
    }
   ],
   "source": [
    "fig = plt.figure(figsize=(18,6))\n",
    "sns.countplot(data=data, x='education' , hue='sex')"
   ]
  },
  {
   "cell_type": "code",
   "execution_count": 33,
   "id": "measured-honduras",
   "metadata": {},
   "outputs": [
    {
     "data": {
      "image/png": "[encoded data removed]",
      "text/plain": [
       "<Figure size 432x288 with 1 Axes>"
      ]
     },
     "metadata": {
      "needs_background": "light"
     },
     "output_type": "display_data"
    },
    {
     "data": {
      "image/png": "[encoded data removed]",
      "text/plain": [
       "<Figure size 432x288 with 1 Axes>"
      ]
     },
     "metadata": {
      "needs_background": "light"
     },
     "output_type": "display_data"
    }
   ],
   "source": [
    "box_cols = ['age', 'education-num']\n",
    "\n",
    "for col in box_cols:\n",
    "    plt.figure(figsize=(6,4))\n",
    "    sns.boxplot(data=data, x='income', y=col)\n",
    "    plt.title(col)\n",
    "    plt.show()"
   ]
  },
  {
   "cell_type": "markdown",
   "id": "institutional-plane",
   "metadata": {},
   "source": [
    "# Data Normalization"
   ]
  },
  {
   "cell_type": "code",
   "execution_count": 53,
   "id": "commercial-american",
   "metadata": {},
   "outputs": [],
   "source": [
    "import sklearn.preprocessing as pre "
   ]
  },
  {
   "cell_type": "code",
   "execution_count": 54,
   "id": "prostate-cruise",
   "metadata": {},
   "outputs": [],
   "source": [
    "le=pre.LabelEncoder()"
   ]
  },
  {
   "cell_type": "code",
   "execution_count": 73,
   "id": "blond-sterling",
   "metadata": {},
   "outputs": [],
   "source": [
    "df_clean_copy=df_clean"
   ]
  },
  {
   "cell_type": "code",
   "execution_count": 74,
   "id": "palestinian-singles",
   "metadata": {},
   "outputs": [],
   "source": [
    "for x in df_clean.select_dtypes(include='object').columns:\n",
    "     df_clean[x]=le.fit_transform(df_clean[x])"
   ]
  },
  {
   "cell_type": "code",
   "execution_count": 75,
   "id": "binary-exemption",
   "metadata": {},
   "outputs": [
    {
     "name": "stdout",
     "output_type": "stream",
     "text": [
      "<class 'pandas.core.frame.DataFrame'>\n",
      "Int64Index: 30162 entries, 0 to 32560\n",
      "Data columns (total 15 columns):\n",
      " #   Column          Non-Null Count  Dtype\n",
      "---  ------          --------------  -----\n",
      " 0   age             30162 non-null  int64\n",
      " 1   workclass       30162 non-null  int32\n",
      " 2   fnlwgt          30162 non-null  int64\n",
      " 3   education       30162 non-null  int32\n",
      " 4   education-num   30162 non-null  int64\n",
      " 5   marital-status  30162 non-null  int32\n",
      " 6   occupation      30162 non-null  int32\n",
      " 7   relationship    30162 non-null  int32\n",
      " 8   race            30162 non-null  int32\n",
      " 9   sex             30162 non-null  int32\n",
      " 10  capital-gain    30162 non-null  int64\n",
      " 11  capital-loss    30162 non-null  int64\n",
      " 12  hours-per-week  30162 non-null  int64\n",
      " 13  native-country  30162 non-null  int32\n",
      " 14  income          30162 non-null  int32\n",
      "dtypes: int32(9), int64(6)\n",
      "memory usage: 2.6 MB\n"
     ]
    }
   ],
   "source": [
    "df_clean.info()"
   ]
  },
  {
   "cell_type": "code",
   "execution_count": 77,
   "id": "representative-diagram",
   "metadata": {},
   "outputs": [],
   "source": [
    "df_clean_scale=pre.minmax_scale(df_clean)"
   ]
  },
  {
   "cell_type": "code",
   "execution_count": 84,
   "id": "finished-missile",
   "metadata": {},
   "outputs": [],
   "source": [
    "df1=pd.DataFrame(df_clean_scale , columns=df_clean.columns.tolist())"
   ]
  },
  {
   "cell_type": "code",
   "execution_count": 85,
   "id": "arabic-rogers",
   "metadata": {},
   "outputs": [
    {
     "data": {
      "text/html": [
       "<div>\n",
       "<style scoped>\n",
       "    .dataframe tbody tr th:only-of-type {\n",
       "        vertical-align: middle;\n",
       "    }\n",
       "\n",
       "    .dataframe tbody tr th {\n",
       "        vertical-align: top;\n",
       "    }\n",
       "\n",
       "    .dataframe thead th {\n",
       "        text-align: right;\n",
       "    }\n",
       "</style>\n",
       "<table border=\"1\" class=\"dataframe\">\n",
       "  <thead>\n",
       "    <tr style=\"text-align: right;\">\n",
       "      <th></th>\n",
       "      <th>age</th>\n",
       "      <th>workclass</th>\n",
       "      <th>fnlwgt</th>\n",
       "      <th>education</th>\n",
       "      <th>education-num</th>\n",
       "      <th>marital-status</th>\n",
       "      <th>occupation</th>\n",
       "      <th>relationship</th>\n",
       "      <th>race</th>\n",
       "      <th>sex</th>\n",
       "      <th>capital-gain</th>\n",
       "      <th>capital-loss</th>\n",
       "      <th>hours-per-week</th>\n",
       "      <th>native-country</th>\n",
       "      <th>income</th>\n",
       "    </tr>\n",
       "  </thead>\n",
       "  <tbody>\n",
       "    <tr>\n",
       "      <th>0</th>\n",
       "      <td>0.301370</td>\n",
       "      <td>0.833333</td>\n",
       "      <td>0.043338</td>\n",
       "      <td>0.600000</td>\n",
       "      <td>0.800000</td>\n",
       "      <td>0.666667</td>\n",
       "      <td>0.000000</td>\n",
       "      <td>0.2</td>\n",
       "      <td>1.0</td>\n",
       "      <td>1.0</td>\n",
       "      <td>0.021740</td>\n",
       "      <td>0.0</td>\n",
       "      <td>0.397959</td>\n",
       "      <td>0.95</td>\n",
       "      <td>0.0</td>\n",
       "    </tr>\n",
       "    <tr>\n",
       "      <th>1</th>\n",
       "      <td>0.452055</td>\n",
       "      <td>0.666667</td>\n",
       "      <td>0.047277</td>\n",
       "      <td>0.600000</td>\n",
       "      <td>0.800000</td>\n",
       "      <td>0.333333</td>\n",
       "      <td>0.230769</td>\n",
       "      <td>0.0</td>\n",
       "      <td>1.0</td>\n",
       "      <td>1.0</td>\n",
       "      <td>0.000000</td>\n",
       "      <td>0.0</td>\n",
       "      <td>0.122449</td>\n",
       "      <td>0.95</td>\n",
       "      <td>0.0</td>\n",
       "    </tr>\n",
       "    <tr>\n",
       "      <th>2</th>\n",
       "      <td>0.287671</td>\n",
       "      <td>0.333333</td>\n",
       "      <td>0.137244</td>\n",
       "      <td>0.733333</td>\n",
       "      <td>0.533333</td>\n",
       "      <td>0.000000</td>\n",
       "      <td>0.384615</td>\n",
       "      <td>0.2</td>\n",
       "      <td>1.0</td>\n",
       "      <td>1.0</td>\n",
       "      <td>0.000000</td>\n",
       "      <td>0.0</td>\n",
       "      <td>0.397959</td>\n",
       "      <td>0.95</td>\n",
       "      <td>0.0</td>\n",
       "    </tr>\n",
       "    <tr>\n",
       "      <th>3</th>\n",
       "      <td>0.493151</td>\n",
       "      <td>0.333333</td>\n",
       "      <td>0.150212</td>\n",
       "      <td>0.066667</td>\n",
       "      <td>0.400000</td>\n",
       "      <td>0.333333</td>\n",
       "      <td>0.384615</td>\n",
       "      <td>0.0</td>\n",
       "      <td>0.5</td>\n",
       "      <td>1.0</td>\n",
       "      <td>0.000000</td>\n",
       "      <td>0.0</td>\n",
       "      <td>0.397959</td>\n",
       "      <td>0.95</td>\n",
       "      <td>0.0</td>\n",
       "    </tr>\n",
       "    <tr>\n",
       "      <th>4</th>\n",
       "      <td>0.150685</td>\n",
       "      <td>0.333333</td>\n",
       "      <td>0.220703</td>\n",
       "      <td>0.600000</td>\n",
       "      <td>0.800000</td>\n",
       "      <td>0.333333</td>\n",
       "      <td>0.692308</td>\n",
       "      <td>1.0</td>\n",
       "      <td>0.5</td>\n",
       "      <td>0.0</td>\n",
       "      <td>0.000000</td>\n",
       "      <td>0.0</td>\n",
       "      <td>0.397959</td>\n",
       "      <td>0.10</td>\n",
       "      <td>0.0</td>\n",
       "    </tr>\n",
       "    <tr>\n",
       "      <th>...</th>\n",
       "      <td>...</td>\n",
       "      <td>...</td>\n",
       "      <td>...</td>\n",
       "      <td>...</td>\n",
       "      <td>...</td>\n",
       "      <td>...</td>\n",
       "      <td>...</td>\n",
       "      <td>...</td>\n",
       "      <td>...</td>\n",
       "      <td>...</td>\n",
       "      <td>...</td>\n",
       "      <td>...</td>\n",
       "      <td>...</td>\n",
       "      <td>...</td>\n",
       "      <td>...</td>\n",
       "    </tr>\n",
       "    <tr>\n",
       "      <th>30157</th>\n",
       "      <td>0.136986</td>\n",
       "      <td>0.333333</td>\n",
       "      <td>0.165563</td>\n",
       "      <td>0.466667</td>\n",
       "      <td>0.733333</td>\n",
       "      <td>0.333333</td>\n",
       "      <td>0.923077</td>\n",
       "      <td>1.0</td>\n",
       "      <td>1.0</td>\n",
       "      <td>0.0</td>\n",
       "      <td>0.000000</td>\n",
       "      <td>0.0</td>\n",
       "      <td>0.377551</td>\n",
       "      <td>0.95</td>\n",
       "      <td>0.0</td>\n",
       "    </tr>\n",
       "    <tr>\n",
       "      <th>30158</th>\n",
       "      <td>0.315068</td>\n",
       "      <td>0.333333</td>\n",
       "      <td>0.095589</td>\n",
       "      <td>0.733333</td>\n",
       "      <td>0.533333</td>\n",
       "      <td>0.333333</td>\n",
       "      <td>0.461538</td>\n",
       "      <td>0.0</td>\n",
       "      <td>1.0</td>\n",
       "      <td>1.0</td>\n",
       "      <td>0.000000</td>\n",
       "      <td>0.0</td>\n",
       "      <td>0.397959</td>\n",
       "      <td>0.95</td>\n",
       "      <td>1.0</td>\n",
       "    </tr>\n",
       "    <tr>\n",
       "      <th>30159</th>\n",
       "      <td>0.561644</td>\n",
       "      <td>0.333333</td>\n",
       "      <td>0.093914</td>\n",
       "      <td>0.733333</td>\n",
       "      <td>0.533333</td>\n",
       "      <td>1.000000</td>\n",
       "      <td>0.000000</td>\n",
       "      <td>0.8</td>\n",
       "      <td>1.0</td>\n",
       "      <td>0.0</td>\n",
       "      <td>0.000000</td>\n",
       "      <td>0.0</td>\n",
       "      <td>0.397959</td>\n",
       "      <td>0.95</td>\n",
       "      <td>0.0</td>\n",
       "    </tr>\n",
       "    <tr>\n",
       "      <th>30160</th>\n",
       "      <td>0.068493</td>\n",
       "      <td>0.333333</td>\n",
       "      <td>0.127620</td>\n",
       "      <td>0.733333</td>\n",
       "      <td>0.533333</td>\n",
       "      <td>0.666667</td>\n",
       "      <td>0.000000</td>\n",
       "      <td>0.6</td>\n",
       "      <td>1.0</td>\n",
       "      <td>1.0</td>\n",
       "      <td>0.000000</td>\n",
       "      <td>0.0</td>\n",
       "      <td>0.193878</td>\n",
       "      <td>0.95</td>\n",
       "      <td>0.0</td>\n",
       "    </tr>\n",
       "    <tr>\n",
       "      <th>30161</th>\n",
       "      <td>0.479452</td>\n",
       "      <td>0.500000</td>\n",
       "      <td>0.186383</td>\n",
       "      <td>0.733333</td>\n",
       "      <td>0.533333</td>\n",
       "      <td>0.333333</td>\n",
       "      <td>0.230769</td>\n",
       "      <td>1.0</td>\n",
       "      <td>1.0</td>\n",
       "      <td>0.0</td>\n",
       "      <td>0.150242</td>\n",
       "      <td>0.0</td>\n",
       "      <td>0.397959</td>\n",
       "      <td>0.95</td>\n",
       "      <td>1.0</td>\n",
       "    </tr>\n",
       "  </tbody>\n",
       "</table>\n",
       "<p>30162 rows × 15 columns</p>\n",
       "</div>"
      ],
      "text/plain": [
       "            age  workclass    fnlwgt  education  education-num  \\\n",
       "0      0.301370   0.833333  0.043338   0.600000       0.800000   \n",
       "1      0.452055   0.666667  0.047277   0.600000       0.800000   \n",
       "2      0.287671   0.333333  0.137244   0.733333       0.533333   \n",
       "3      0.493151   0.333333  0.150212   0.066667       0.400000   \n",
       "4      0.150685   0.333333  0.220703   0.600000       0.800000   \n",
       "...         ...        ...       ...        ...            ...   \n",
       "30157  0.136986   0.333333  0.165563   0.466667       0.733333   \n",
       "30158  0.315068   0.333333  0.095589   0.733333       0.533333   \n",
       "30159  0.561644   0.333333  0.093914   0.733333       0.533333   \n",
       "30160  0.068493   0.333333  0.127620   0.733333       0.533333   \n",
       "30161  0.479452   0.500000  0.186383   0.733333       0.533333   \n",
       "\n",
       "       marital-status  occupation  relationship  race  sex  capital-gain  \\\n",
       "0            0.666667    0.000000           0.2   1.0  1.0      0.021740   \n",
       "1            0.333333    0.230769           0.0   1.0  1.0      0.000000   \n",
       "2            0.000000    0.384615           0.2   1.0  1.0      0.000000   \n",
       "3            0.333333    0.384615           0.0   0.5  1.0      0.000000   \n",
       "4            0.333333    0.692308           1.0   0.5  0.0      0.000000   \n",
       "...               ...         ...           ...   ...  ...           ...   \n",
       "30157        0.333333    0.923077           1.0   1.0  0.0      0.000000   \n",
       "30158        0.333333    0.461538           0.0   1.0  1.0      0.000000   \n",
       "30159        1.000000    0.000000           0.8   1.0  0.0      0.000000   \n",
       "30160        0.666667    0.000000           0.6   1.0  1.0      0.000000   \n",
       "30161        0.333333    0.230769           1.0   1.0  0.0      0.150242   \n",
       "\n",
       "       capital-loss  hours-per-week  native-country  income  \n",
       "0               0.0        0.397959            0.95     0.0  \n",
       "1               0.0        0.122449            0.95     0.0  \n",
       "2               0.0        0.397959            0.95     0.0  \n",
       "3               0.0        0.397959            0.95     0.0  \n",
       "4               0.0        0.397959            0.10     0.0  \n",
       "...             ...             ...             ...     ...  \n",
       "30157           0.0        0.377551            0.95     0.0  \n",
       "30158           0.0        0.397959            0.95     1.0  \n",
       "30159           0.0        0.397959            0.95     0.0  \n",
       "30160           0.0        0.193878            0.95     0.0  \n",
       "30161           0.0        0.397959            0.95     1.0  \n",
       "\n",
       "[30162 rows x 15 columns]"
      ]
     },
     "execution_count": 85,
     "metadata": {},
     "output_type": "execute_result"
    }
   ],
   "source": [
    "df1"
   ]
  },
  {
   "cell_type": "markdown",
   "id": "91f8fef1",
   "metadata": {},
   "source": [
    "## Model Building - KNN"
   ]
  },
  {
   "cell_type": "code",
   "execution_count": 23,
   "id": "general-macro",
   "metadata": {},
   "outputs": [],
   "source": [
    "import sklearn.model_selection as ms  "
   ]
  },
  {
   "cell_type": "code",
   "execution_count": 86,
   "id": "ordered-animal",
   "metadata": {},
   "outputs": [],
   "source": [
    "Features,outcomes=df1.drop('income',axis=1),df1['income']"
   ]
  },
  {
   "cell_type": "code",
   "execution_count": 87,
   "id": "artificial-burton",
   "metadata": {},
   "outputs": [],
   "source": [
    "#splitting the dataset\n",
    "x_train,x_test,y_train,y_test=ms.train_test_split(Features,outcomes,test_size=0.3,random_state=1234567)"
   ]
  },
  {
   "cell_type": "code",
   "execution_count": 88,
   "id": "little-recycling",
   "metadata": {},
   "outputs": [],
   "source": [
    "from sklearn.neighbors import  KNeighborsClassifier"
   ]
  },
  {
   "cell_type": "code",
   "execution_count": 94,
   "id": "legal-haiti",
   "metadata": {},
   "outputs": [],
   "source": [
    "KNN_cls=KNeighborsClassifier(n_neighbors=6)"
   ]
  },
  {
   "cell_type": "code",
   "execution_count": 95,
   "id": "consecutive-venture",
   "metadata": {},
   "outputs": [
    {
     "data": {
      "text/plain": [
       "KNeighborsClassifier(n_neighbors=6)"
      ]
     },
     "execution_count": 95,
     "metadata": {},
     "output_type": "execute_result"
    }
   ],
   "source": [
    "#fitting the model\n",
    "KNN_cls.fit(x_train,y_train)"
   ]
  },
  {
   "cell_type": "code",
   "execution_count": 96,
   "id": "biological-assets",
   "metadata": {},
   "outputs": [
    {
     "data": {
      "text/plain": [
       "0.8242899767930159"
      ]
     },
     "execution_count": 96,
     "metadata": {},
     "output_type": "execute_result"
    }
   ],
   "source": [
    "#Checking the test score\n",
    "KNN_cls.score(x_test,y_test)"
   ]
  },
  {
   "cell_type": "code",
   "execution_count": 97,
   "id": "official-thesaurus",
   "metadata": {},
   "outputs": [
    {
     "data": {
      "text/plain": [
       "0.8630701463553261"
      ]
     },
     "execution_count": 97,
     "metadata": {},
     "output_type": "execute_result"
    }
   ],
   "source": [
    "#checking the train score \n",
    "KNN_cls.score(x_train,y_train)"
   ]
  },
  {
   "cell_type": "code",
   "execution_count": 93,
   "id": "literary-expense",
   "metadata": {},
   "outputs": [],
   "source": [
    "import sklearn.metrics as mt"
   ]
  },
  {
   "cell_type": "code",
   "execution_count": 98,
   "id": "level-receptor",
   "metadata": {},
   "outputs": [
    {
     "data": {
      "text/plain": [
       "array([[6352,  466],\n",
       "       [1124, 1107]], dtype=int64)"
      ]
     },
     "execution_count": 98,
     "metadata": {},
     "output_type": "execute_result"
    }
   ],
   "source": [
    "#Checking the confusion matrix\n",
    "mt.confusion_matrix(y_test,KNN_cls.predict(x_test))"
   ]
  },
  {
   "cell_type": "code",
   "execution_count": 99,
   "id": "democratic-sacrifice",
   "metadata": {},
   "outputs": [
    {
     "name": "stdout",
     "output_type": "stream",
     "text": [
      "              precision    recall  f1-score   support\n",
      "\n",
      "         0.0       0.85      0.93      0.89      6818\n",
      "         1.0       0.70      0.50      0.58      2231\n",
      "\n",
      "    accuracy                           0.82      9049\n",
      "   macro avg       0.78      0.71      0.74      9049\n",
      "weighted avg       0.81      0.82      0.81      9049\n",
      "\n"
     ]
    }
   ],
   "source": [
    "#printing the classification report\n",
    "print(mt.classification_report(y_test,KNN_cls.predict(x_test)))"
   ]
  },
  {
   "cell_type": "code",
   "execution_count": 14,
   "id": "wired-ozone",
   "metadata": {},
   "outputs": [],
   "source": [
    "#using df_mode "
   ]
  },
  {
   "cell_type": "code",
   "execution_count": 55,
   "id": "radical-journey",
   "metadata": {},
   "outputs": [],
   "source": [
    "df_mode_copy=df_mode"
   ]
  },
  {
   "cell_type": "code",
   "execution_count": 56,
   "id": "silent-producer",
   "metadata": {},
   "outputs": [],
   "source": [
    "for x in df_mode.select_dtypes(include='object').columns:\n",
    "     df_mode[x]=le.fit_transform(df_mode[x])"
   ]
  },
  {
   "cell_type": "code",
   "execution_count": 57,
   "id": "surprised-married",
   "metadata": {},
   "outputs": [
    {
     "name": "stdout",
     "output_type": "stream",
     "text": [
      "<class 'pandas.core.frame.DataFrame'>\n",
      "RangeIndex: 32561 entries, 0 to 32560\n",
      "Data columns (total 15 columns):\n",
      " #   Column          Non-Null Count  Dtype\n",
      "---  ------          --------------  -----\n",
      " 0   age             32561 non-null  int64\n",
      " 1   workclass       32561 non-null  int32\n",
      " 2   fnlwgt          32561 non-null  int64\n",
      " 3   education       32561 non-null  int32\n",
      " 4   education-num   32561 non-null  int64\n",
      " 5   marital-status  32561 non-null  int32\n",
      " 6   occupation      32561 non-null  int32\n",
      " 7   relationship    32561 non-null  int32\n",
      " 8   race            32561 non-null  int32\n",
      " 9   sex             32561 non-null  int32\n",
      " 10  capital-gain    32561 non-null  int64\n",
      " 11  capital-loss    32561 non-null  int64\n",
      " 12  hours-per-week  32561 non-null  int64\n",
      " 13  native-country  32561 non-null  int32\n",
      " 14  income          32561 non-null  int32\n",
      "dtypes: int32(9), int64(6)\n",
      "memory usage: 2.6 MB\n"
     ]
    }
   ],
   "source": [
    "df_mode.info()"
   ]
  },
  {
   "cell_type": "code",
   "execution_count": 58,
   "id": "unable-embassy",
   "metadata": {},
   "outputs": [],
   "source": [
    "df_mode_scale=pre.minmax_scale(df_mode)"
   ]
  },
  {
   "cell_type": "code",
   "execution_count": 59,
   "id": "double-blair",
   "metadata": {},
   "outputs": [],
   "source": [
    "df2=pd.DataFrame(df_mode_scale , columns=df_mode.columns.tolist())"
   ]
  },
  {
   "cell_type": "code",
   "execution_count": 60,
   "id": "activated-settlement",
   "metadata": {},
   "outputs": [
    {
     "data": {
      "text/html": [
       "<div>\n",
       "<style scoped>\n",
       "    .dataframe tbody tr th:only-of-type {\n",
       "        vertical-align: middle;\n",
       "    }\n",
       "\n",
       "    .dataframe tbody tr th {\n",
       "        vertical-align: top;\n",
       "    }\n",
       "\n",
       "    .dataframe thead th {\n",
       "        text-align: right;\n",
       "    }\n",
       "</style>\n",
       "<table border=\"1\" class=\"dataframe\">\n",
       "  <thead>\n",
       "    <tr style=\"text-align: right;\">\n",
       "      <th></th>\n",
       "      <th>age</th>\n",
       "      <th>workclass</th>\n",
       "      <th>fnlwgt</th>\n",
       "      <th>education</th>\n",
       "      <th>education-num</th>\n",
       "      <th>marital-status</th>\n",
       "      <th>occupation</th>\n",
       "      <th>relationship</th>\n",
       "      <th>race</th>\n",
       "      <th>sex</th>\n",
       "      <th>capital-gain</th>\n",
       "      <th>capital-loss</th>\n",
       "      <th>hours-per-week</th>\n",
       "      <th>native-country</th>\n",
       "      <th>income</th>\n",
       "    </tr>\n",
       "  </thead>\n",
       "  <tbody>\n",
       "    <tr>\n",
       "      <th>0</th>\n",
       "      <td>0.301370</td>\n",
       "      <td>0.857143</td>\n",
       "      <td>0.044302</td>\n",
       "      <td>0.600000</td>\n",
       "      <td>0.800000</td>\n",
       "      <td>0.666667</td>\n",
       "      <td>0.000000</td>\n",
       "      <td>0.2</td>\n",
       "      <td>1.0</td>\n",
       "      <td>1.0</td>\n",
       "      <td>0.021740</td>\n",
       "      <td>0.0</td>\n",
       "      <td>0.397959</td>\n",
       "      <td>0.951220</td>\n",
       "      <td>0.0</td>\n",
       "    </tr>\n",
       "    <tr>\n",
       "      <th>1</th>\n",
       "      <td>0.452055</td>\n",
       "      <td>0.714286</td>\n",
       "      <td>0.048238</td>\n",
       "      <td>0.600000</td>\n",
       "      <td>0.800000</td>\n",
       "      <td>0.333333</td>\n",
       "      <td>0.230769</td>\n",
       "      <td>0.0</td>\n",
       "      <td>1.0</td>\n",
       "      <td>1.0</td>\n",
       "      <td>0.000000</td>\n",
       "      <td>0.0</td>\n",
       "      <td>0.122449</td>\n",
       "      <td>0.951220</td>\n",
       "      <td>0.0</td>\n",
       "    </tr>\n",
       "    <tr>\n",
       "      <th>2</th>\n",
       "      <td>0.287671</td>\n",
       "      <td>0.428571</td>\n",
       "      <td>0.138113</td>\n",
       "      <td>0.733333</td>\n",
       "      <td>0.533333</td>\n",
       "      <td>0.000000</td>\n",
       "      <td>0.384615</td>\n",
       "      <td>0.2</td>\n",
       "      <td>1.0</td>\n",
       "      <td>1.0</td>\n",
       "      <td>0.000000</td>\n",
       "      <td>0.0</td>\n",
       "      <td>0.397959</td>\n",
       "      <td>0.951220</td>\n",
       "      <td>0.0</td>\n",
       "    </tr>\n",
       "    <tr>\n",
       "      <th>3</th>\n",
       "      <td>0.493151</td>\n",
       "      <td>0.428571</td>\n",
       "      <td>0.151068</td>\n",
       "      <td>0.066667</td>\n",
       "      <td>0.400000</td>\n",
       "      <td>0.333333</td>\n",
       "      <td>0.384615</td>\n",
       "      <td>0.0</td>\n",
       "      <td>0.5</td>\n",
       "      <td>1.0</td>\n",
       "      <td>0.000000</td>\n",
       "      <td>0.0</td>\n",
       "      <td>0.397959</td>\n",
       "      <td>0.951220</td>\n",
       "      <td>0.0</td>\n",
       "    </tr>\n",
       "    <tr>\n",
       "      <th>4</th>\n",
       "      <td>0.150685</td>\n",
       "      <td>0.428571</td>\n",
       "      <td>0.221488</td>\n",
       "      <td>0.600000</td>\n",
       "      <td>0.800000</td>\n",
       "      <td>0.333333</td>\n",
       "      <td>0.692308</td>\n",
       "      <td>1.0</td>\n",
       "      <td>0.5</td>\n",
       "      <td>0.0</td>\n",
       "      <td>0.000000</td>\n",
       "      <td>0.0</td>\n",
       "      <td>0.397959</td>\n",
       "      <td>0.097561</td>\n",
       "      <td>0.0</td>\n",
       "    </tr>\n",
       "    <tr>\n",
       "      <th>...</th>\n",
       "      <td>...</td>\n",
       "      <td>...</td>\n",
       "      <td>...</td>\n",
       "      <td>...</td>\n",
       "      <td>...</td>\n",
       "      <td>...</td>\n",
       "      <td>...</td>\n",
       "      <td>...</td>\n",
       "      <td>...</td>\n",
       "      <td>...</td>\n",
       "      <td>...</td>\n",
       "      <td>...</td>\n",
       "      <td>...</td>\n",
       "      <td>...</td>\n",
       "      <td>...</td>\n",
       "    </tr>\n",
       "    <tr>\n",
       "      <th>32556</th>\n",
       "      <td>0.136986</td>\n",
       "      <td>0.428571</td>\n",
       "      <td>0.166404</td>\n",
       "      <td>0.466667</td>\n",
       "      <td>0.733333</td>\n",
       "      <td>0.333333</td>\n",
       "      <td>0.923077</td>\n",
       "      <td>1.0</td>\n",
       "      <td>1.0</td>\n",
       "      <td>0.0</td>\n",
       "      <td>0.000000</td>\n",
       "      <td>0.0</td>\n",
       "      <td>0.377551</td>\n",
       "      <td>0.951220</td>\n",
       "      <td>0.0</td>\n",
       "    </tr>\n",
       "    <tr>\n",
       "      <th>32557</th>\n",
       "      <td>0.315068</td>\n",
       "      <td>0.428571</td>\n",
       "      <td>0.096500</td>\n",
       "      <td>0.733333</td>\n",
       "      <td>0.533333</td>\n",
       "      <td>0.333333</td>\n",
       "      <td>0.461538</td>\n",
       "      <td>0.0</td>\n",
       "      <td>1.0</td>\n",
       "      <td>1.0</td>\n",
       "      <td>0.000000</td>\n",
       "      <td>0.0</td>\n",
       "      <td>0.397959</td>\n",
       "      <td>0.951220</td>\n",
       "      <td>1.0</td>\n",
       "    </tr>\n",
       "    <tr>\n",
       "      <th>32558</th>\n",
       "      <td>0.561644</td>\n",
       "      <td>0.428571</td>\n",
       "      <td>0.094827</td>\n",
       "      <td>0.733333</td>\n",
       "      <td>0.533333</td>\n",
       "      <td>1.000000</td>\n",
       "      <td>0.000000</td>\n",
       "      <td>0.8</td>\n",
       "      <td>1.0</td>\n",
       "      <td>0.0</td>\n",
       "      <td>0.000000</td>\n",
       "      <td>0.0</td>\n",
       "      <td>0.397959</td>\n",
       "      <td>0.951220</td>\n",
       "      <td>0.0</td>\n",
       "    </tr>\n",
       "    <tr>\n",
       "      <th>32559</th>\n",
       "      <td>0.068493</td>\n",
       "      <td>0.428571</td>\n",
       "      <td>0.128499</td>\n",
       "      <td>0.733333</td>\n",
       "      <td>0.533333</td>\n",
       "      <td>0.666667</td>\n",
       "      <td>0.000000</td>\n",
       "      <td>0.6</td>\n",
       "      <td>1.0</td>\n",
       "      <td>1.0</td>\n",
       "      <td>0.000000</td>\n",
       "      <td>0.0</td>\n",
       "      <td>0.193878</td>\n",
       "      <td>0.951220</td>\n",
       "      <td>0.0</td>\n",
       "    </tr>\n",
       "    <tr>\n",
       "      <th>32560</th>\n",
       "      <td>0.479452</td>\n",
       "      <td>0.571429</td>\n",
       "      <td>0.187203</td>\n",
       "      <td>0.733333</td>\n",
       "      <td>0.533333</td>\n",
       "      <td>0.333333</td>\n",
       "      <td>0.230769</td>\n",
       "      <td>1.0</td>\n",
       "      <td>1.0</td>\n",
       "      <td>0.0</td>\n",
       "      <td>0.150242</td>\n",
       "      <td>0.0</td>\n",
       "      <td>0.397959</td>\n",
       "      <td>0.951220</td>\n",
       "      <td>1.0</td>\n",
       "    </tr>\n",
       "  </tbody>\n",
       "</table>\n",
       "<p>32561 rows × 15 columns</p>\n",
       "</div>"
      ],
      "text/plain": [
       "            age  workclass    fnlwgt  education  education-num  \\\n",
       "0      0.301370   0.857143  0.044302   0.600000       0.800000   \n",
       "1      0.452055   0.714286  0.048238   0.600000       0.800000   \n",
       "2      0.287671   0.428571  0.138113   0.733333       0.533333   \n",
       "3      0.493151   0.428571  0.151068   0.066667       0.400000   \n",
       "4      0.150685   0.428571  0.221488   0.600000       0.800000   \n",
       "...         ...        ...       ...        ...            ...   \n",
       "32556  0.136986   0.428571  0.166404   0.466667       0.733333   \n",
       "32557  0.315068   0.428571  0.096500   0.733333       0.533333   \n",
       "32558  0.561644   0.428571  0.094827   0.733333       0.533333   \n",
       "32559  0.068493   0.428571  0.128499   0.733333       0.533333   \n",
       "32560  0.479452   0.571429  0.187203   0.733333       0.533333   \n",
       "\n",
       "       marital-status  occupation  relationship  race  sex  capital-gain  \\\n",
       "0            0.666667    0.000000           0.2   1.0  1.0      0.021740   \n",
       "1            0.333333    0.230769           0.0   1.0  1.0      0.000000   \n",
       "2            0.000000    0.384615           0.2   1.0  1.0      0.000000   \n",
       "3            0.333333    0.384615           0.0   0.5  1.0      0.000000   \n",
       "4            0.333333    0.692308           1.0   0.5  0.0      0.000000   \n",
       "...               ...         ...           ...   ...  ...           ...   \n",
       "32556        0.333333    0.923077           1.0   1.0  0.0      0.000000   \n",
       "32557        0.333333    0.461538           0.0   1.0  1.0      0.000000   \n",
       "32558        1.000000    0.000000           0.8   1.0  0.0      0.000000   \n",
       "32559        0.666667    0.000000           0.6   1.0  1.0      0.000000   \n",
       "32560        0.333333    0.230769           1.0   1.0  0.0      0.150242   \n",
       "\n",
       "       capital-loss  hours-per-week  native-country  income  \n",
       "0               0.0        0.397959        0.951220     0.0  \n",
       "1               0.0        0.122449        0.951220     0.0  \n",
       "2               0.0        0.397959        0.951220     0.0  \n",
       "3               0.0        0.397959        0.951220     0.0  \n",
       "4               0.0        0.397959        0.097561     0.0  \n",
       "...             ...             ...             ...     ...  \n",
       "32556           0.0        0.377551        0.951220     0.0  \n",
       "32557           0.0        0.397959        0.951220     1.0  \n",
       "32558           0.0        0.397959        0.951220     0.0  \n",
       "32559           0.0        0.193878        0.951220     0.0  \n",
       "32560           0.0        0.397959        0.951220     1.0  \n",
       "\n",
       "[32561 rows x 15 columns]"
      ]
     },
     "execution_count": 60,
     "metadata": {},
     "output_type": "execute_result"
    }
   ],
   "source": [
    "df2"
   ]
  },
  {
   "cell_type": "code",
   "execution_count": 61,
   "id": "cardiac-challenge",
   "metadata": {},
   "outputs": [],
   "source": [
    "import sklearn.model_selection as ms"
   ]
  },
  {
   "cell_type": "code",
   "execution_count": 62,
   "id": "preceding-feelings",
   "metadata": {},
   "outputs": [],
   "source": [
    "Features,outcomes=df2.drop('income',axis=1),df2['income']"
   ]
  },
  {
   "cell_type": "code",
   "execution_count": 63,
   "id": "standard-calgary",
   "metadata": {},
   "outputs": [],
   "source": [
    "x_train1,x_test1,y_train1,y_test1=ms.train_test_split(Features,outcomes,test_size=0.3,random_state=1234567)"
   ]
  },
  {
   "cell_type": "code",
   "execution_count": 64,
   "id": "beautiful-soldier",
   "metadata": {},
   "outputs": [],
   "source": [
    "from sklearn.neighbors import  KNeighborsClassifier"
   ]
  },
  {
   "cell_type": "code",
   "execution_count": 28,
   "id": "expensive-minority",
   "metadata": {},
   "outputs": [],
   "source": [
    "KNN_cls=KNeighborsClassifier(n_neighbors=6)"
   ]
  },
  {
   "cell_type": "code",
   "execution_count": 29,
   "id": "domestic-associate",
   "metadata": {},
   "outputs": [
    {
     "data": {
      "text/plain": [
       "KNeighborsClassifier(n_neighbors=6)"
      ]
     },
     "execution_count": 29,
     "metadata": {},
     "output_type": "execute_result"
    }
   ],
   "source": [
    "#splitting the dataset\n",
    "KNN_cls.fit(x_train1,y_train1)"
   ]
  },
  {
   "cell_type": "code",
   "execution_count": 30,
   "id": "starting-experience",
   "metadata": {},
   "outputs": [
    {
     "data": {
      "text/plain": [
       "0.8274132459821886"
      ]
     },
     "execution_count": 30,
     "metadata": {},
     "output_type": "execute_result"
    }
   ],
   "source": [
    "#Checking the test score\n",
    "KNN_cls.score(x_test1,y_test1)"
   ]
  },
  {
   "cell_type": "code",
   "execution_count": 32,
   "id": "protective-complaint",
   "metadata": {},
   "outputs": [
    {
     "data": {
      "text/plain": [
       "0.862978237978238"
      ]
     },
     "execution_count": 32,
     "metadata": {},
     "output_type": "execute_result"
    }
   ],
   "source": [
    "#Checking the train score\n",
    "KNN_cls.score(x_train1,y_train1)"
   ]
  },
  {
   "cell_type": "code",
   "execution_count": 35,
   "id": "individual-grenada",
   "metadata": {},
   "outputs": [
    {
     "data": {
      "text/plain": [
       "array([[6907,  507],\n",
       "       [1179, 1176]], dtype=int64)"
      ]
     },
     "execution_count": 35,
     "metadata": {},
     "output_type": "execute_result"
    }
   ],
   "source": [
    "#checking the train score \n",
    "mt.confusion_matrix(y_test1,KNN_cls.predict(x_test1))"
   ]
  },
  {
   "cell_type": "code",
   "execution_count": 37,
   "id": "contrary-motion",
   "metadata": {},
   "outputs": [
    {
     "name": "stdout",
     "output_type": "stream",
     "text": [
      "              precision    recall  f1-score   support\n",
      "\n",
      "         0.0       0.85      0.93      0.89      7414\n",
      "         1.0       0.70      0.50      0.58      2355\n",
      "\n",
      "    accuracy                           0.83      9769\n",
      "   macro avg       0.78      0.72      0.74      9769\n",
      "weighted avg       0.82      0.83      0.82      9769\n",
      "\n"
     ]
    }
   ],
   "source": [
    "#printing the classification report\n",
    "print(mt.classification_report(y_test1,KNN_cls.predict(x_test1)))"
   ]
  },
  {
   "cell_type": "markdown",
   "id": "01438d59",
   "metadata": {},
   "source": [
    "##### n=15"
   ]
  },
  {
   "cell_type": "code",
   "execution_count": 66,
   "id": "broken-arcade",
   "metadata": {},
   "outputs": [],
   "source": [
    "KNN_cls=KNeighborsClassifier(n_neighbors=15)"
   ]
  },
  {
   "cell_type": "code",
   "execution_count": 67,
   "id": "korean-railway",
   "metadata": {},
   "outputs": [
    {
     "data": {
      "text/plain": [
       "KNeighborsClassifier(n_neighbors=15)"
      ]
     },
     "execution_count": 67,
     "metadata": {},
     "output_type": "execute_result"
    }
   ],
   "source": [
    "KNN_cls.fit(x_train1,y_train1)"
   ]
  },
  {
   "cell_type": "code",
   "execution_count": 68,
   "id": "cloudy-found",
   "metadata": {},
   "outputs": [
    {
     "data": {
      "text/plain": [
       "0.8347834988228069"
      ]
     },
     "execution_count": 68,
     "metadata": {},
     "output_type": "execute_result"
    }
   ],
   "source": [
    "KNN_cls.score(x_test1,y_test1)"
   ]
  },
  {
   "cell_type": "code",
   "execution_count": 69,
   "id": "elementary-ancient",
   "metadata": {},
   "outputs": [
    {
     "data": {
      "text/plain": [
       "0.8521849771849772"
      ]
     },
     "execution_count": 69,
     "metadata": {},
     "output_type": "execute_result"
    }
   ],
   "source": [
    "KNN_cls.score(x_train1,y_train1)"
   ]
  },
  {
   "cell_type": "code",
   "execution_count": 71,
   "id": "turkish-binding",
   "metadata": {},
   "outputs": [
    {
     "data": {
      "text/plain": [
       "array([[6794,  620],\n",
       "       [ 994, 1361]], dtype=int64)"
      ]
     },
     "execution_count": 71,
     "metadata": {},
     "output_type": "execute_result"
    }
   ],
   "source": [
    "mt.confusion_matrix(y_test1,KNN_cls.predict(x_test1))"
   ]
  },
  {
   "cell_type": "code",
   "execution_count": 72,
   "id": "nearby-greensboro",
   "metadata": {},
   "outputs": [
    {
     "name": "stdout",
     "output_type": "stream",
     "text": [
      "              precision    recall  f1-score   support\n",
      "\n",
      "         0.0       0.87      0.92      0.89      7414\n",
      "         1.0       0.69      0.58      0.63      2355\n",
      "\n",
      "    accuracy                           0.83      9769\n",
      "   macro avg       0.78      0.75      0.76      9769\n",
      "weighted avg       0.83      0.83      0.83      9769\n",
      "\n"
     ]
    }
   ],
   "source": [
    "print(mt.classification_report(y_test1,KNN_cls.predict(x_test1)))"
   ]
  }
 ],
 "metadata": {
  "kernelspec": {
   "display_name": "Python 3",
   "language": "python",
   "name": "python3"
  },
  "language_info": {
   "codemirror_mode": {
    "name": "ipython",
    "version": 3
   },
   "file_extension": ".py",
   "mimetype": "text/x-python",
   "name": "python",
   "nbconvert_exporter": "python",
   "pygments_lexer": "ipython3",
   "version": "3.8.8"
  }
 },
 "nbformat": 4,
 "nbformat_minor": 5
}
